{
 "cells": [
  {
   "cell_type": "code",
   "execution_count": 1,
   "id": "68c0cc1e-a0eb-49b7-804b-293dadb466a6",
   "metadata": {
    "editable": true,
    "slideshow": {
     "slide_type": ""
    },
    "tags": []
   },
   "outputs": [],
   "source": [
    "from selenium import webdriver\n",
    "from selenium.webdriver.common.by import By\n",
    "import pandas as pd\n",
    "from time import sleep\n",
    "\n",
    "data_fram=pd.read_csv('iranfile.csv')\n",
    "\n"
   ]
  },
  {
   "cell_type": "code",
   "execution_count": 8,
   "id": "5f136f6f-1bf3-4082-ad9e-3def9eec4df7",
   "metadata": {
    "editable": true,
    "slideshow": {
     "slide_type": ""
    },
    "tags": []
   },
   "outputs": [
    {
     "data": {
      "text/html": [
       "<div>\n",
       "<style scoped>\n",
       "    .dataframe tbody tr th:only-of-type {\n",
       "        vertical-align: middle;\n",
       "    }\n",
       "\n",
       "    .dataframe tbody tr th {\n",
       "        vertical-align: top;\n",
       "    }\n",
       "\n",
       "    .dataframe thead th {\n",
       "        text-align: right;\n",
       "    }\n",
       "</style>\n",
       "<table border=\"1\" class=\"dataframe\">\n",
       "  <thead>\n",
       "    <tr style=\"text-align: right;\">\n",
       "      <th></th>\n",
       "      <th>Unnamed: 0</th>\n",
       "      <th>کد ملک</th>\n",
       "      <th>تاریخ</th>\n",
       "      <th>آدرس</th>\n",
       "      <th>زیربنا</th>\n",
       "      <th>طبقه</th>\n",
       "      <th>سن بنا</th>\n",
       "      <th>قیمت واحد</th>\n",
       "      <th>قیمت کل</th>\n",
       "    </tr>\n",
       "  </thead>\n",
       "  <tbody>\n",
       "    <tr>\n",
       "      <th>0</th>\n",
       "      <td>NaN</td>\n",
       "      <td>10416222</td>\n",
       "      <td>1403/05/24</td>\n",
       "      <td>شهران بلوار كوهسار</td>\n",
       "      <td>75</td>\n",
       "      <td>2</td>\n",
       "      <td>5</td>\n",
       "      <td>104000000</td>\n",
       "      <td>7800000000</td>\n",
       "    </tr>\n",
       "    <tr>\n",
       "      <th>1</th>\n",
       "      <td>NaN</td>\n",
       "      <td>10335838</td>\n",
       "      <td>1403/05/24</td>\n",
       "      <td>تهران نو فلكه چایچی</td>\n",
       "      <td>70</td>\n",
       "      <td>3</td>\n",
       "      <td>20</td>\n",
       "      <td>74285000</td>\n",
       "      <td>5200000000</td>\n",
       "    </tr>\n",
       "    <tr>\n",
       "      <th>2</th>\n",
       "      <td>NaN</td>\n",
       "      <td>10416220</td>\n",
       "      <td>1403/05/24</td>\n",
       "      <td>انتهای همت غرب مروارید شهر خ شهید اردستانی</td>\n",
       "      <td>89</td>\n",
       "      <td>13</td>\n",
       "      <td>0</td>\n",
       "      <td>78651000</td>\n",
       "      <td>7000000000</td>\n",
       "    </tr>\n",
       "    <tr>\n",
       "      <th>3</th>\n",
       "      <td>NaN</td>\n",
       "      <td>10267636</td>\n",
       "      <td>1403/05/24</td>\n",
       "      <td>نیرو هوایی خ 30 متری</td>\n",
       "      <td>70</td>\n",
       "      <td>3</td>\n",
       "      <td>22</td>\n",
       "      <td>77142000</td>\n",
       "      <td>5400000000</td>\n",
       "    </tr>\n",
       "    <tr>\n",
       "      <th>4</th>\n",
       "      <td>NaN</td>\n",
       "      <td>10272212</td>\n",
       "      <td>1403/05/24</td>\n",
       "      <td>هفت تیر نرسیده به بهارشیراز</td>\n",
       "      <td>158</td>\n",
       "      <td>3</td>\n",
       "      <td>30</td>\n",
       "      <td>70000000</td>\n",
       "      <td>11060000000</td>\n",
       "    </tr>\n",
       "    <tr>\n",
       "      <th>...</th>\n",
       "      <td>...</td>\n",
       "      <td>...</td>\n",
       "      <td>...</td>\n",
       "      <td>...</td>\n",
       "      <td>...</td>\n",
       "      <td>...</td>\n",
       "      <td>...</td>\n",
       "      <td>...</td>\n",
       "      <td>...</td>\n",
       "    </tr>\n",
       "    <tr>\n",
       "      <th>17975</th>\n",
       "      <td>NaN</td>\n",
       "      <td>10276443</td>\n",
       "      <td>1403/05/25</td>\n",
       "      <td>شریعتی نرسیده به سه طالقانی</td>\n",
       "      <td>131</td>\n",
       "      <td>5</td>\n",
       "      <td>6</td>\n",
       "      <td>120000000</td>\n",
       "      <td>15720000000</td>\n",
       "    </tr>\n",
       "    <tr>\n",
       "      <th>17976</th>\n",
       "      <td>NaN</td>\n",
       "      <td>10416240</td>\n",
       "      <td>1403/05/25</td>\n",
       "      <td>ازگل خ اراج</td>\n",
       "      <td>160</td>\n",
       "      <td>3</td>\n",
       "      <td>23</td>\n",
       "      <td>140625000</td>\n",
       "      <td>22500000000</td>\n",
       "    </tr>\n",
       "    <tr>\n",
       "      <th>17977</th>\n",
       "      <td>NaN</td>\n",
       "      <td>3804062</td>\n",
       "      <td>1403/05/25</td>\n",
       "      <td>ولیعصر نرسیده به پارك ساعی</td>\n",
       "      <td>118</td>\n",
       "      <td>4</td>\n",
       "      <td>30</td>\n",
       "      <td>135590000</td>\n",
       "      <td>16000000000</td>\n",
       "    </tr>\n",
       "    <tr>\n",
       "      <th>17978</th>\n",
       "      <td>NaN</td>\n",
       "      <td>3906742</td>\n",
       "      <td>1403/05/25</td>\n",
       "      <td>پیچ شمیران خ حقوقی</td>\n",
       "      <td>117</td>\n",
       "      <td>4</td>\n",
       "      <td>28</td>\n",
       "      <td>59829000</td>\n",
       "      <td>7000000000</td>\n",
       "    </tr>\n",
       "    <tr>\n",
       "      <th>17979</th>\n",
       "      <td>NaN</td>\n",
       "      <td>10249612</td>\n",
       "      <td>1403/05/25</td>\n",
       "      <td>فرمانیه خ سلیمی شمالی</td>\n",
       "      <td>167</td>\n",
       "      <td>1</td>\n",
       "      <td>9</td>\n",
       "      <td>197604000</td>\n",
       "      <td>33000000000</td>\n",
       "    </tr>\n",
       "  </tbody>\n",
       "</table>\n",
       "<p>17980 rows × 9 columns</p>\n",
       "</div>"
      ],
      "text/plain": [
       "       Unnamed: 0    کد ملک       تاریخ  \\\n",
       "0             NaN  10416222  1403/05/24   \n",
       "1             NaN  10335838  1403/05/24   \n",
       "2             NaN  10416220  1403/05/24   \n",
       "3             NaN  10267636  1403/05/24   \n",
       "4             NaN  10272212  1403/05/24   \n",
       "...           ...       ...         ...   \n",
       "17975         NaN  10276443  1403/05/25   \n",
       "17976         NaN  10416240  1403/05/25   \n",
       "17977         NaN   3804062  1403/05/25   \n",
       "17978         NaN   3906742  1403/05/25   \n",
       "17979         NaN  10249612  1403/05/25   \n",
       "\n",
       "                                             آدرس  زیربنا طبقه  سن بنا  \\\n",
       "0                              شهران بلوار كوهسار      75    2       5   \n",
       "1                             تهران نو فلكه چایچی      70    3      20   \n",
       "2      انتهای همت غرب مروارید شهر خ شهید اردستانی      89   13       0   \n",
       "3                            نیرو هوایی خ 30 متری      70    3      22   \n",
       "4                     هفت تیر نرسیده به بهارشیراز     158    3      30   \n",
       "...                                           ...     ...  ...     ...   \n",
       "17975                 شریعتی نرسیده به سه طالقانی     131    5       6   \n",
       "17976                                 ازگل خ اراج     160    3      23   \n",
       "17977                  ولیعصر نرسیده به پارك ساعی     118    4      30   \n",
       "17978                          پیچ شمیران خ حقوقی     117    4      28   \n",
       "17979                       فرمانیه خ سلیمی شمالی     167    1       9   \n",
       "\n",
       "       قیمت واحد      قیمت کل  \n",
       "0      104000000   7800000000  \n",
       "1       74285000   5200000000  \n",
       "2       78651000   7000000000  \n",
       "3       77142000   5400000000  \n",
       "4       70000000  11060000000  \n",
       "...          ...          ...  \n",
       "17975  120000000  15720000000  \n",
       "17976  140625000  22500000000  \n",
       "17977  135590000  16000000000  \n",
       "17978   59829000   7000000000  \n",
       "17979  197604000  33000000000  \n",
       "\n",
       "[17980 rows x 9 columns]"
      ]
     },
     "execution_count": 8,
     "metadata": {},
     "output_type": "execute_result"
    }
   ],
   "source": [
    "data_fram"
   ]
  },
  {
   "cell_type": "code",
   "execution_count": null,
   "id": "49e922db-fa02-4a70-bb95-8b29e71aed16",
   "metadata": {
    "editable": true,
    "scrolled": true,
    "slideshow": {
     "slide_type": ""
    },
    "tags": []
   },
   "outputs": [
    {
     "name": "stderr",
     "output_type": "stream",
     "text": [
      "C:\\Users\\Malek4\\AppData\\Local\\Temp\\ipykernel_3080\\1338659490.py:7: FutureWarning: Passing literal html to 'read_html' is deprecated and will be removed in a future version. To read from a literal string, wrap it in a 'StringIO' object.\n",
      "  data_frest=pd.read_html(html_frest)\n",
      "C:\\Users\\Malek4\\AppData\\Local\\Temp\\ipykernel_3080\\1338659490.py:73: FutureWarning: Passing literal html to 'read_html' is deprecated and will be removed in a future version. To read from a literal string, wrap it in a 'StringIO' object.\n",
      "  data_frest=pd.read_html(html_frest)\n"
     ]
    },
    {
     "name": "stdout",
     "output_type": "stream",
     "text": [
      "1\n"
     ]
    },
    {
     "name": "stderr",
     "output_type": "stream",
     "text": [
      "C:\\Users\\Malek4\\AppData\\Local\\Temp\\ipykernel_3080\\1338659490.py:73: FutureWarning: Passing literal html to 'read_html' is deprecated and will be removed in a future version. To read from a literal string, wrap it in a 'StringIO' object.\n",
      "  data_frest=pd.read_html(html_frest)\n"
     ]
    },
    {
     "name": "stdout",
     "output_type": "stream",
     "text": [
      "2\n"
     ]
    },
    {
     "name": "stderr",
     "output_type": "stream",
     "text": [
      "C:\\Users\\Malek4\\AppData\\Local\\Temp\\ipykernel_3080\\1338659490.py:73: FutureWarning: Passing literal html to 'read_html' is deprecated and will be removed in a future version. To read from a literal string, wrap it in a 'StringIO' object.\n",
      "  data_frest=pd.read_html(html_frest)\n"
     ]
    },
    {
     "name": "stdout",
     "output_type": "stream",
     "text": [
      "3\n"
     ]
    },
    {
     "name": "stderr",
     "output_type": "stream",
     "text": [
      "C:\\Users\\Malek4\\AppData\\Local\\Temp\\ipykernel_3080\\1338659490.py:73: FutureWarning: Passing literal html to 'read_html' is deprecated and will be removed in a future version. To read from a literal string, wrap it in a 'StringIO' object.\n",
      "  data_frest=pd.read_html(html_frest)\n"
     ]
    },
    {
     "name": "stdout",
     "output_type": "stream",
     "text": [
      "4\n"
     ]
    },
    {
     "name": "stderr",
     "output_type": "stream",
     "text": [
      "C:\\Users\\Malek4\\AppData\\Local\\Temp\\ipykernel_3080\\1338659490.py:73: FutureWarning: Passing literal html to 'read_html' is deprecated and will be removed in a future version. To read from a literal string, wrap it in a 'StringIO' object.\n",
      "  data_frest=pd.read_html(html_frest)\n"
     ]
    },
    {
     "name": "stdout",
     "output_type": "stream",
     "text": [
      "5\n"
     ]
    },
    {
     "name": "stderr",
     "output_type": "stream",
     "text": [
      "C:\\Users\\Malek4\\AppData\\Local\\Temp\\ipykernel_3080\\1338659490.py:73: FutureWarning: Passing literal html to 'read_html' is deprecated and will be removed in a future version. To read from a literal string, wrap it in a 'StringIO' object.\n",
      "  data_frest=pd.read_html(html_frest)\n"
     ]
    },
    {
     "name": "stdout",
     "output_type": "stream",
     "text": [
      "6\n"
     ]
    },
    {
     "name": "stderr",
     "output_type": "stream",
     "text": [
      "C:\\Users\\Malek4\\AppData\\Local\\Temp\\ipykernel_3080\\1338659490.py:73: FutureWarning: Passing literal html to 'read_html' is deprecated and will be removed in a future version. To read from a literal string, wrap it in a 'StringIO' object.\n",
      "  data_frest=pd.read_html(html_frest)\n"
     ]
    },
    {
     "name": "stdout",
     "output_type": "stream",
     "text": [
      "7\n"
     ]
    },
    {
     "name": "stderr",
     "output_type": "stream",
     "text": [
      "C:\\Users\\Malek4\\AppData\\Local\\Temp\\ipykernel_3080\\1338659490.py:73: FutureWarning: Passing literal html to 'read_html' is deprecated and will be removed in a future version. To read from a literal string, wrap it in a 'StringIO' object.\n",
      "  data_frest=pd.read_html(html_frest)\n"
     ]
    },
    {
     "name": "stdout",
     "output_type": "stream",
     "text": [
      "8\n"
     ]
    },
    {
     "name": "stderr",
     "output_type": "stream",
     "text": [
      "C:\\Users\\Malek4\\AppData\\Local\\Temp\\ipykernel_3080\\1338659490.py:73: FutureWarning: Passing literal html to 'read_html' is deprecated and will be removed in a future version. To read from a literal string, wrap it in a 'StringIO' object.\n",
      "  data_frest=pd.read_html(html_frest)\n"
     ]
    },
    {
     "name": "stdout",
     "output_type": "stream",
     "text": [
      "9\n"
     ]
    },
    {
     "name": "stderr",
     "output_type": "stream",
     "text": [
      "C:\\Users\\Malek4\\AppData\\Local\\Temp\\ipykernel_3080\\1338659490.py:73: FutureWarning: Passing literal html to 'read_html' is deprecated and will be removed in a future version. To read from a literal string, wrap it in a 'StringIO' object.\n",
      "  data_frest=pd.read_html(html_frest)\n"
     ]
    },
    {
     "name": "stdout",
     "output_type": "stream",
     "text": [
      "10\n"
     ]
    },
    {
     "name": "stderr",
     "output_type": "stream",
     "text": [
      "C:\\Users\\Malek4\\AppData\\Local\\Temp\\ipykernel_3080\\1338659490.py:73: FutureWarning: Passing literal html to 'read_html' is deprecated and will be removed in a future version. To read from a literal string, wrap it in a 'StringIO' object.\n",
      "  data_frest=pd.read_html(html_frest)\n"
     ]
    },
    {
     "name": "stdout",
     "output_type": "stream",
     "text": [
      "11\n"
     ]
    },
    {
     "name": "stderr",
     "output_type": "stream",
     "text": [
      "C:\\Users\\Malek4\\AppData\\Local\\Temp\\ipykernel_3080\\1338659490.py:73: FutureWarning: Passing literal html to 'read_html' is deprecated and will be removed in a future version. To read from a literal string, wrap it in a 'StringIO' object.\n",
      "  data_frest=pd.read_html(html_frest)\n"
     ]
    },
    {
     "name": "stdout",
     "output_type": "stream",
     "text": [
      "12\n"
     ]
    },
    {
     "name": "stderr",
     "output_type": "stream",
     "text": [
      "C:\\Users\\Malek4\\AppData\\Local\\Temp\\ipykernel_3080\\1338659490.py:73: FutureWarning: Passing literal html to 'read_html' is deprecated and will be removed in a future version. To read from a literal string, wrap it in a 'StringIO' object.\n",
      "  data_frest=pd.read_html(html_frest)\n"
     ]
    },
    {
     "name": "stdout",
     "output_type": "stream",
     "text": [
      "13\n"
     ]
    },
    {
     "name": "stderr",
     "output_type": "stream",
     "text": [
      "C:\\Users\\Malek4\\AppData\\Local\\Temp\\ipykernel_3080\\1338659490.py:73: FutureWarning: Passing literal html to 'read_html' is deprecated and will be removed in a future version. To read from a literal string, wrap it in a 'StringIO' object.\n",
      "  data_frest=pd.read_html(html_frest)\n"
     ]
    },
    {
     "name": "stdout",
     "output_type": "stream",
     "text": [
      "14\n"
     ]
    },
    {
     "name": "stderr",
     "output_type": "stream",
     "text": [
      "C:\\Users\\Malek4\\AppData\\Local\\Temp\\ipykernel_3080\\1338659490.py:73: FutureWarning: Passing literal html to 'read_html' is deprecated and will be removed in a future version. To read from a literal string, wrap it in a 'StringIO' object.\n",
      "  data_frest=pd.read_html(html_frest)\n"
     ]
    },
    {
     "name": "stdout",
     "output_type": "stream",
     "text": [
      "15\n"
     ]
    },
    {
     "name": "stderr",
     "output_type": "stream",
     "text": [
      "C:\\Users\\Malek4\\AppData\\Local\\Temp\\ipykernel_3080\\1338659490.py:73: FutureWarning: Passing literal html to 'read_html' is deprecated and will be removed in a future version. To read from a literal string, wrap it in a 'StringIO' object.\n",
      "  data_frest=pd.read_html(html_frest)\n"
     ]
    },
    {
     "name": "stdout",
     "output_type": "stream",
     "text": [
      "16\n"
     ]
    },
    {
     "name": "stderr",
     "output_type": "stream",
     "text": [
      "C:\\Users\\Malek4\\AppData\\Local\\Temp\\ipykernel_3080\\1338659490.py:73: FutureWarning: Passing literal html to 'read_html' is deprecated and will be removed in a future version. To read from a literal string, wrap it in a 'StringIO' object.\n",
      "  data_frest=pd.read_html(html_frest)\n"
     ]
    },
    {
     "name": "stdout",
     "output_type": "stream",
     "text": [
      "17\n"
     ]
    },
    {
     "name": "stderr",
     "output_type": "stream",
     "text": [
      "C:\\Users\\Malek4\\AppData\\Local\\Temp\\ipykernel_3080\\1338659490.py:73: FutureWarning: Passing literal html to 'read_html' is deprecated and will be removed in a future version. To read from a literal string, wrap it in a 'StringIO' object.\n",
      "  data_frest=pd.read_html(html_frest)\n"
     ]
    },
    {
     "name": "stdout",
     "output_type": "stream",
     "text": [
      "18\n"
     ]
    },
    {
     "name": "stderr",
     "output_type": "stream",
     "text": [
      "C:\\Users\\Malek4\\AppData\\Local\\Temp\\ipykernel_3080\\1338659490.py:73: FutureWarning: Passing literal html to 'read_html' is deprecated and will be removed in a future version. To read from a literal string, wrap it in a 'StringIO' object.\n",
      "  data_frest=pd.read_html(html_frest)\n"
     ]
    },
    {
     "name": "stdout",
     "output_type": "stream",
     "text": [
      "19\n"
     ]
    },
    {
     "name": "stderr",
     "output_type": "stream",
     "text": [
      "C:\\Users\\Malek4\\AppData\\Local\\Temp\\ipykernel_3080\\1338659490.py:73: FutureWarning: Passing literal html to 'read_html' is deprecated and will be removed in a future version. To read from a literal string, wrap it in a 'StringIO' object.\n",
      "  data_frest=pd.read_html(html_frest)\n"
     ]
    },
    {
     "name": "stdout",
     "output_type": "stream",
     "text": [
      "20\n"
     ]
    },
    {
     "name": "stderr",
     "output_type": "stream",
     "text": [
      "C:\\Users\\Malek4\\AppData\\Local\\Temp\\ipykernel_3080\\1338659490.py:73: FutureWarning: Passing literal html to 'read_html' is deprecated and will be removed in a future version. To read from a literal string, wrap it in a 'StringIO' object.\n",
      "  data_frest=pd.read_html(html_frest)\n"
     ]
    },
    {
     "name": "stdout",
     "output_type": "stream",
     "text": [
      "21\n"
     ]
    },
    {
     "name": "stderr",
     "output_type": "stream",
     "text": [
      "C:\\Users\\Malek4\\AppData\\Local\\Temp\\ipykernel_3080\\1338659490.py:73: FutureWarning: Passing literal html to 'read_html' is deprecated and will be removed in a future version. To read from a literal string, wrap it in a 'StringIO' object.\n",
      "  data_frest=pd.read_html(html_frest)\n"
     ]
    },
    {
     "name": "stdout",
     "output_type": "stream",
     "text": [
      "22\n"
     ]
    },
    {
     "name": "stderr",
     "output_type": "stream",
     "text": [
      "C:\\Users\\Malek4\\AppData\\Local\\Temp\\ipykernel_3080\\1338659490.py:73: FutureWarning: Passing literal html to 'read_html' is deprecated and will be removed in a future version. To read from a literal string, wrap it in a 'StringIO' object.\n",
      "  data_frest=pd.read_html(html_frest)\n"
     ]
    },
    {
     "name": "stdout",
     "output_type": "stream",
     "text": [
      "23\n"
     ]
    },
    {
     "name": "stderr",
     "output_type": "stream",
     "text": [
      "C:\\Users\\Malek4\\AppData\\Local\\Temp\\ipykernel_3080\\1338659490.py:73: FutureWarning: Passing literal html to 'read_html' is deprecated and will be removed in a future version. To read from a literal string, wrap it in a 'StringIO' object.\n",
      "  data_frest=pd.read_html(html_frest)\n"
     ]
    },
    {
     "name": "stdout",
     "output_type": "stream",
     "text": [
      "24\n"
     ]
    },
    {
     "name": "stderr",
     "output_type": "stream",
     "text": [
      "C:\\Users\\Malek4\\AppData\\Local\\Temp\\ipykernel_3080\\1338659490.py:73: FutureWarning: Passing literal html to 'read_html' is deprecated and will be removed in a future version. To read from a literal string, wrap it in a 'StringIO' object.\n",
      "  data_frest=pd.read_html(html_frest)\n"
     ]
    },
    {
     "name": "stdout",
     "output_type": "stream",
     "text": [
      "25\n"
     ]
    },
    {
     "name": "stderr",
     "output_type": "stream",
     "text": [
      "C:\\Users\\Malek4\\AppData\\Local\\Temp\\ipykernel_3080\\1338659490.py:73: FutureWarning: Passing literal html to 'read_html' is deprecated and will be removed in a future version. To read from a literal string, wrap it in a 'StringIO' object.\n",
      "  data_frest=pd.read_html(html_frest)\n"
     ]
    },
    {
     "name": "stdout",
     "output_type": "stream",
     "text": [
      "26\n"
     ]
    },
    {
     "name": "stderr",
     "output_type": "stream",
     "text": [
      "C:\\Users\\Malek4\\AppData\\Local\\Temp\\ipykernel_3080\\1338659490.py:73: FutureWarning: Passing literal html to 'read_html' is deprecated and will be removed in a future version. To read from a literal string, wrap it in a 'StringIO' object.\n",
      "  data_frest=pd.read_html(html_frest)\n"
     ]
    },
    {
     "name": "stdout",
     "output_type": "stream",
     "text": [
      "27\n"
     ]
    },
    {
     "name": "stderr",
     "output_type": "stream",
     "text": [
      "C:\\Users\\Malek4\\AppData\\Local\\Temp\\ipykernel_3080\\1338659490.py:73: FutureWarning: Passing literal html to 'read_html' is deprecated and will be removed in a future version. To read from a literal string, wrap it in a 'StringIO' object.\n",
      "  data_frest=pd.read_html(html_frest)\n"
     ]
    },
    {
     "name": "stdout",
     "output_type": "stream",
     "text": [
      "28\n"
     ]
    },
    {
     "name": "stderr",
     "output_type": "stream",
     "text": [
      "C:\\Users\\Malek4\\AppData\\Local\\Temp\\ipykernel_3080\\1338659490.py:73: FutureWarning: Passing literal html to 'read_html' is deprecated and will be removed in a future version. To read from a literal string, wrap it in a 'StringIO' object.\n",
      "  data_frest=pd.read_html(html_frest)\n"
     ]
    },
    {
     "name": "stdout",
     "output_type": "stream",
     "text": [
      "29\n"
     ]
    },
    {
     "name": "stderr",
     "output_type": "stream",
     "text": [
      "C:\\Users\\Malek4\\AppData\\Local\\Temp\\ipykernel_3080\\1338659490.py:73: FutureWarning: Passing literal html to 'read_html' is deprecated and will be removed in a future version. To read from a literal string, wrap it in a 'StringIO' object.\n",
      "  data_frest=pd.read_html(html_frest)\n"
     ]
    },
    {
     "name": "stdout",
     "output_type": "stream",
     "text": [
      "30\n"
     ]
    },
    {
     "name": "stderr",
     "output_type": "stream",
     "text": [
      "C:\\Users\\Malek4\\AppData\\Local\\Temp\\ipykernel_3080\\1338659490.py:73: FutureWarning: Passing literal html to 'read_html' is deprecated and will be removed in a future version. To read from a literal string, wrap it in a 'StringIO' object.\n",
      "  data_frest=pd.read_html(html_frest)\n"
     ]
    },
    {
     "name": "stdout",
     "output_type": "stream",
     "text": [
      "31\n"
     ]
    },
    {
     "name": "stderr",
     "output_type": "stream",
     "text": [
      "C:\\Users\\Malek4\\AppData\\Local\\Temp\\ipykernel_3080\\1338659490.py:73: FutureWarning: Passing literal html to 'read_html' is deprecated and will be removed in a future version. To read from a literal string, wrap it in a 'StringIO' object.\n",
      "  data_frest=pd.read_html(html_frest)\n"
     ]
    },
    {
     "name": "stdout",
     "output_type": "stream",
     "text": [
      "32\n"
     ]
    },
    {
     "name": "stderr",
     "output_type": "stream",
     "text": [
      "C:\\Users\\Malek4\\AppData\\Local\\Temp\\ipykernel_3080\\1338659490.py:73: FutureWarning: Passing literal html to 'read_html' is deprecated and will be removed in a future version. To read from a literal string, wrap it in a 'StringIO' object.\n",
      "  data_frest=pd.read_html(html_frest)\n"
     ]
    },
    {
     "name": "stdout",
     "output_type": "stream",
     "text": [
      "33\n"
     ]
    },
    {
     "name": "stderr",
     "output_type": "stream",
     "text": [
      "C:\\Users\\Malek4\\AppData\\Local\\Temp\\ipykernel_3080\\1338659490.py:73: FutureWarning: Passing literal html to 'read_html' is deprecated and will be removed in a future version. To read from a literal string, wrap it in a 'StringIO' object.\n",
      "  data_frest=pd.read_html(html_frest)\n"
     ]
    },
    {
     "name": "stdout",
     "output_type": "stream",
     "text": [
      "34\n"
     ]
    },
    {
     "name": "stderr",
     "output_type": "stream",
     "text": [
      "C:\\Users\\Malek4\\AppData\\Local\\Temp\\ipykernel_3080\\1338659490.py:73: FutureWarning: Passing literal html to 'read_html' is deprecated and will be removed in a future version. To read from a literal string, wrap it in a 'StringIO' object.\n",
      "  data_frest=pd.read_html(html_frest)\n"
     ]
    },
    {
     "name": "stdout",
     "output_type": "stream",
     "text": [
      "35\n"
     ]
    },
    {
     "name": "stderr",
     "output_type": "stream",
     "text": [
      "C:\\Users\\Malek4\\AppData\\Local\\Temp\\ipykernel_3080\\1338659490.py:73: FutureWarning: Passing literal html to 'read_html' is deprecated and will be removed in a future version. To read from a literal string, wrap it in a 'StringIO' object.\n",
      "  data_frest=pd.read_html(html_frest)\n"
     ]
    },
    {
     "name": "stdout",
     "output_type": "stream",
     "text": [
      "36\n"
     ]
    },
    {
     "name": "stderr",
     "output_type": "stream",
     "text": [
      "C:\\Users\\Malek4\\AppData\\Local\\Temp\\ipykernel_3080\\1338659490.py:73: FutureWarning: Passing literal html to 'read_html' is deprecated and will be removed in a future version. To read from a literal string, wrap it in a 'StringIO' object.\n",
      "  data_frest=pd.read_html(html_frest)\n"
     ]
    },
    {
     "name": "stdout",
     "output_type": "stream",
     "text": [
      "37\n"
     ]
    },
    {
     "name": "stderr",
     "output_type": "stream",
     "text": [
      "C:\\Users\\Malek4\\AppData\\Local\\Temp\\ipykernel_3080\\1338659490.py:73: FutureWarning: Passing literal html to 'read_html' is deprecated and will be removed in a future version. To read from a literal string, wrap it in a 'StringIO' object.\n",
      "  data_frest=pd.read_html(html_frest)\n"
     ]
    },
    {
     "name": "stdout",
     "output_type": "stream",
     "text": [
      "38\n"
     ]
    },
    {
     "name": "stderr",
     "output_type": "stream",
     "text": [
      "C:\\Users\\Malek4\\AppData\\Local\\Temp\\ipykernel_3080\\1338659490.py:73: FutureWarning: Passing literal html to 'read_html' is deprecated and will be removed in a future version. To read from a literal string, wrap it in a 'StringIO' object.\n",
      "  data_frest=pd.read_html(html_frest)\n"
     ]
    },
    {
     "name": "stdout",
     "output_type": "stream",
     "text": [
      "39\n"
     ]
    },
    {
     "name": "stderr",
     "output_type": "stream",
     "text": [
      "C:\\Users\\Malek4\\AppData\\Local\\Temp\\ipykernel_3080\\1338659490.py:73: FutureWarning: Passing literal html to 'read_html' is deprecated and will be removed in a future version. To read from a literal string, wrap it in a 'StringIO' object.\n",
      "  data_frest=pd.read_html(html_frest)\n"
     ]
    },
    {
     "name": "stdout",
     "output_type": "stream",
     "text": [
      "40\n"
     ]
    },
    {
     "name": "stderr",
     "output_type": "stream",
     "text": [
      "C:\\Users\\Malek4\\AppData\\Local\\Temp\\ipykernel_3080\\1338659490.py:73: FutureWarning: Passing literal html to 'read_html' is deprecated and will be removed in a future version. To read from a literal string, wrap it in a 'StringIO' object.\n",
      "  data_frest=pd.read_html(html_frest)\n"
     ]
    },
    {
     "name": "stdout",
     "output_type": "stream",
     "text": [
      "41\n"
     ]
    },
    {
     "name": "stderr",
     "output_type": "stream",
     "text": [
      "C:\\Users\\Malek4\\AppData\\Local\\Temp\\ipykernel_3080\\1338659490.py:73: FutureWarning: Passing literal html to 'read_html' is deprecated and will be removed in a future version. To read from a literal string, wrap it in a 'StringIO' object.\n",
      "  data_frest=pd.read_html(html_frest)\n"
     ]
    },
    {
     "name": "stdout",
     "output_type": "stream",
     "text": [
      "42\n"
     ]
    },
    {
     "name": "stderr",
     "output_type": "stream",
     "text": [
      "C:\\Users\\Malek4\\AppData\\Local\\Temp\\ipykernel_3080\\1338659490.py:73: FutureWarning: Passing literal html to 'read_html' is deprecated and will be removed in a future version. To read from a literal string, wrap it in a 'StringIO' object.\n",
      "  data_frest=pd.read_html(html_frest)\n"
     ]
    },
    {
     "name": "stdout",
     "output_type": "stream",
     "text": [
      "43\n"
     ]
    },
    {
     "name": "stderr",
     "output_type": "stream",
     "text": [
      "C:\\Users\\Malek4\\AppData\\Local\\Temp\\ipykernel_3080\\1338659490.py:73: FutureWarning: Passing literal html to 'read_html' is deprecated and will be removed in a future version. To read from a literal string, wrap it in a 'StringIO' object.\n",
      "  data_frest=pd.read_html(html_frest)\n"
     ]
    },
    {
     "name": "stdout",
     "output_type": "stream",
     "text": [
      "44\n"
     ]
    },
    {
     "name": "stderr",
     "output_type": "stream",
     "text": [
      "C:\\Users\\Malek4\\AppData\\Local\\Temp\\ipykernel_3080\\1338659490.py:73: FutureWarning: Passing literal html to 'read_html' is deprecated and will be removed in a future version. To read from a literal string, wrap it in a 'StringIO' object.\n",
      "  data_frest=pd.read_html(html_frest)\n"
     ]
    },
    {
     "name": "stdout",
     "output_type": "stream",
     "text": [
      "45\n"
     ]
    },
    {
     "name": "stderr",
     "output_type": "stream",
     "text": [
      "C:\\Users\\Malek4\\AppData\\Local\\Temp\\ipykernel_3080\\1338659490.py:73: FutureWarning: Passing literal html to 'read_html' is deprecated and will be removed in a future version. To read from a literal string, wrap it in a 'StringIO' object.\n",
      "  data_frest=pd.read_html(html_frest)\n"
     ]
    },
    {
     "name": "stdout",
     "output_type": "stream",
     "text": [
      "46\n"
     ]
    },
    {
     "name": "stderr",
     "output_type": "stream",
     "text": [
      "C:\\Users\\Malek4\\AppData\\Local\\Temp\\ipykernel_3080\\1338659490.py:73: FutureWarning: Passing literal html to 'read_html' is deprecated and will be removed in a future version. To read from a literal string, wrap it in a 'StringIO' object.\n",
      "  data_frest=pd.read_html(html_frest)\n"
     ]
    },
    {
     "name": "stdout",
     "output_type": "stream",
     "text": [
      "47\n"
     ]
    },
    {
     "name": "stderr",
     "output_type": "stream",
     "text": [
      "C:\\Users\\Malek4\\AppData\\Local\\Temp\\ipykernel_3080\\1338659490.py:73: FutureWarning: Passing literal html to 'read_html' is deprecated and will be removed in a future version. To read from a literal string, wrap it in a 'StringIO' object.\n",
      "  data_frest=pd.read_html(html_frest)\n"
     ]
    },
    {
     "name": "stdout",
     "output_type": "stream",
     "text": [
      "48\n"
     ]
    },
    {
     "name": "stderr",
     "output_type": "stream",
     "text": [
      "C:\\Users\\Malek4\\AppData\\Local\\Temp\\ipykernel_3080\\1338659490.py:73: FutureWarning: Passing literal html to 'read_html' is deprecated and will be removed in a future version. To read from a literal string, wrap it in a 'StringIO' object.\n",
      "  data_frest=pd.read_html(html_frest)\n"
     ]
    },
    {
     "name": "stdout",
     "output_type": "stream",
     "text": [
      "49\n"
     ]
    },
    {
     "name": "stderr",
     "output_type": "stream",
     "text": [
      "C:\\Users\\Malek4\\AppData\\Local\\Temp\\ipykernel_3080\\1338659490.py:73: FutureWarning: Passing literal html to 'read_html' is deprecated and will be removed in a future version. To read from a literal string, wrap it in a 'StringIO' object.\n",
      "  data_frest=pd.read_html(html_frest)\n"
     ]
    },
    {
     "name": "stdout",
     "output_type": "stream",
     "text": [
      "50\n"
     ]
    },
    {
     "name": "stderr",
     "output_type": "stream",
     "text": [
      "C:\\Users\\Malek4\\AppData\\Local\\Temp\\ipykernel_3080\\1338659490.py:73: FutureWarning: Passing literal html to 'read_html' is deprecated and will be removed in a future version. To read from a literal string, wrap it in a 'StringIO' object.\n",
      "  data_frest=pd.read_html(html_frest)\n"
     ]
    },
    {
     "name": "stdout",
     "output_type": "stream",
     "text": [
      "51\n"
     ]
    },
    {
     "name": "stderr",
     "output_type": "stream",
     "text": [
      "C:\\Users\\Malek4\\AppData\\Local\\Temp\\ipykernel_3080\\1338659490.py:73: FutureWarning: Passing literal html to 'read_html' is deprecated and will be removed in a future version. To read from a literal string, wrap it in a 'StringIO' object.\n",
      "  data_frest=pd.read_html(html_frest)\n"
     ]
    },
    {
     "name": "stdout",
     "output_type": "stream",
     "text": [
      "52\n"
     ]
    },
    {
     "name": "stderr",
     "output_type": "stream",
     "text": [
      "C:\\Users\\Malek4\\AppData\\Local\\Temp\\ipykernel_3080\\1338659490.py:73: FutureWarning: Passing literal html to 'read_html' is deprecated and will be removed in a future version. To read from a literal string, wrap it in a 'StringIO' object.\n",
      "  data_frest=pd.read_html(html_frest)\n"
     ]
    },
    {
     "name": "stdout",
     "output_type": "stream",
     "text": [
      "53\n"
     ]
    },
    {
     "name": "stderr",
     "output_type": "stream",
     "text": [
      "C:\\Users\\Malek4\\AppData\\Local\\Temp\\ipykernel_3080\\1338659490.py:73: FutureWarning: Passing literal html to 'read_html' is deprecated and will be removed in a future version. To read from a literal string, wrap it in a 'StringIO' object.\n",
      "  data_frest=pd.read_html(html_frest)\n"
     ]
    },
    {
     "name": "stdout",
     "output_type": "stream",
     "text": [
      "54\n"
     ]
    },
    {
     "name": "stderr",
     "output_type": "stream",
     "text": [
      "C:\\Users\\Malek4\\AppData\\Local\\Temp\\ipykernel_3080\\1338659490.py:73: FutureWarning: Passing literal html to 'read_html' is deprecated and will be removed in a future version. To read from a literal string, wrap it in a 'StringIO' object.\n",
      "  data_frest=pd.read_html(html_frest)\n"
     ]
    },
    {
     "name": "stdout",
     "output_type": "stream",
     "text": [
      "55\n"
     ]
    },
    {
     "name": "stderr",
     "output_type": "stream",
     "text": [
      "C:\\Users\\Malek4\\AppData\\Local\\Temp\\ipykernel_3080\\1338659490.py:73: FutureWarning: Passing literal html to 'read_html' is deprecated and will be removed in a future version. To read from a literal string, wrap it in a 'StringIO' object.\n",
      "  data_frest=pd.read_html(html_frest)\n"
     ]
    },
    {
     "name": "stdout",
     "output_type": "stream",
     "text": [
      "56\n"
     ]
    },
    {
     "name": "stderr",
     "output_type": "stream",
     "text": [
      "C:\\Users\\Malek4\\AppData\\Local\\Temp\\ipykernel_3080\\1338659490.py:73: FutureWarning: Passing literal html to 'read_html' is deprecated and will be removed in a future version. To read from a literal string, wrap it in a 'StringIO' object.\n",
      "  data_frest=pd.read_html(html_frest)\n"
     ]
    },
    {
     "name": "stdout",
     "output_type": "stream",
     "text": [
      "57\n"
     ]
    },
    {
     "name": "stderr",
     "output_type": "stream",
     "text": [
      "C:\\Users\\Malek4\\AppData\\Local\\Temp\\ipykernel_3080\\1338659490.py:73: FutureWarning: Passing literal html to 'read_html' is deprecated and will be removed in a future version. To read from a literal string, wrap it in a 'StringIO' object.\n",
      "  data_frest=pd.read_html(html_frest)\n"
     ]
    },
    {
     "name": "stdout",
     "output_type": "stream",
     "text": [
      "58\n"
     ]
    },
    {
     "name": "stderr",
     "output_type": "stream",
     "text": [
      "C:\\Users\\Malek4\\AppData\\Local\\Temp\\ipykernel_3080\\1338659490.py:73: FutureWarning: Passing literal html to 'read_html' is deprecated and will be removed in a future version. To read from a literal string, wrap it in a 'StringIO' object.\n",
      "  data_frest=pd.read_html(html_frest)\n"
     ]
    },
    {
     "name": "stdout",
     "output_type": "stream",
     "text": [
      "59\n"
     ]
    },
    {
     "name": "stderr",
     "output_type": "stream",
     "text": [
      "C:\\Users\\Malek4\\AppData\\Local\\Temp\\ipykernel_3080\\1338659490.py:73: FutureWarning: Passing literal html to 'read_html' is deprecated and will be removed in a future version. To read from a literal string, wrap it in a 'StringIO' object.\n",
      "  data_frest=pd.read_html(html_frest)\n"
     ]
    },
    {
     "name": "stdout",
     "output_type": "stream",
     "text": [
      "60\n"
     ]
    },
    {
     "name": "stderr",
     "output_type": "stream",
     "text": [
      "C:\\Users\\Malek4\\AppData\\Local\\Temp\\ipykernel_3080\\1338659490.py:73: FutureWarning: Passing literal html to 'read_html' is deprecated and will be removed in a future version. To read from a literal string, wrap it in a 'StringIO' object.\n",
      "  data_frest=pd.read_html(html_frest)\n"
     ]
    },
    {
     "name": "stdout",
     "output_type": "stream",
     "text": [
      "61\n"
     ]
    },
    {
     "name": "stderr",
     "output_type": "stream",
     "text": [
      "C:\\Users\\Malek4\\AppData\\Local\\Temp\\ipykernel_3080\\1338659490.py:73: FutureWarning: Passing literal html to 'read_html' is deprecated and will be removed in a future version. To read from a literal string, wrap it in a 'StringIO' object.\n",
      "  data_frest=pd.read_html(html_frest)\n"
     ]
    },
    {
     "name": "stdout",
     "output_type": "stream",
     "text": [
      "62\n"
     ]
    },
    {
     "name": "stderr",
     "output_type": "stream",
     "text": [
      "C:\\Users\\Malek4\\AppData\\Local\\Temp\\ipykernel_3080\\1338659490.py:73: FutureWarning: Passing literal html to 'read_html' is deprecated and will be removed in a future version. To read from a literal string, wrap it in a 'StringIO' object.\n",
      "  data_frest=pd.read_html(html_frest)\n"
     ]
    },
    {
     "name": "stdout",
     "output_type": "stream",
     "text": [
      "63\n"
     ]
    },
    {
     "name": "stderr",
     "output_type": "stream",
     "text": [
      "C:\\Users\\Malek4\\AppData\\Local\\Temp\\ipykernel_3080\\1338659490.py:73: FutureWarning: Passing literal html to 'read_html' is deprecated and will be removed in a future version. To read from a literal string, wrap it in a 'StringIO' object.\n",
      "  data_frest=pd.read_html(html_frest)\n"
     ]
    },
    {
     "name": "stdout",
     "output_type": "stream",
     "text": [
      "64\n"
     ]
    },
    {
     "name": "stderr",
     "output_type": "stream",
     "text": [
      "C:\\Users\\Malek4\\AppData\\Local\\Temp\\ipykernel_3080\\1338659490.py:73: FutureWarning: Passing literal html to 'read_html' is deprecated and will be removed in a future version. To read from a literal string, wrap it in a 'StringIO' object.\n",
      "  data_frest=pd.read_html(html_frest)\n"
     ]
    },
    {
     "name": "stdout",
     "output_type": "stream",
     "text": [
      "65\n"
     ]
    },
    {
     "name": "stderr",
     "output_type": "stream",
     "text": [
      "C:\\Users\\Malek4\\AppData\\Local\\Temp\\ipykernel_3080\\1338659490.py:73: FutureWarning: Passing literal html to 'read_html' is deprecated and will be removed in a future version. To read from a literal string, wrap it in a 'StringIO' object.\n",
      "  data_frest=pd.read_html(html_frest)\n"
     ]
    },
    {
     "name": "stdout",
     "output_type": "stream",
     "text": [
      "66\n"
     ]
    },
    {
     "name": "stderr",
     "output_type": "stream",
     "text": [
      "C:\\Users\\Malek4\\AppData\\Local\\Temp\\ipykernel_3080\\1338659490.py:73: FutureWarning: Passing literal html to 'read_html' is deprecated and will be removed in a future version. To read from a literal string, wrap it in a 'StringIO' object.\n",
      "  data_frest=pd.read_html(html_frest)\n"
     ]
    },
    {
     "name": "stdout",
     "output_type": "stream",
     "text": [
      "67\n"
     ]
    },
    {
     "name": "stderr",
     "output_type": "stream",
     "text": [
      "C:\\Users\\Malek4\\AppData\\Local\\Temp\\ipykernel_3080\\1338659490.py:73: FutureWarning: Passing literal html to 'read_html' is deprecated and will be removed in a future version. To read from a literal string, wrap it in a 'StringIO' object.\n",
      "  data_frest=pd.read_html(html_frest)\n"
     ]
    },
    {
     "name": "stdout",
     "output_type": "stream",
     "text": [
      "68\n"
     ]
    },
    {
     "name": "stderr",
     "output_type": "stream",
     "text": [
      "C:\\Users\\Malek4\\AppData\\Local\\Temp\\ipykernel_3080\\1338659490.py:73: FutureWarning: Passing literal html to 'read_html' is deprecated and will be removed in a future version. To read from a literal string, wrap it in a 'StringIO' object.\n",
      "  data_frest=pd.read_html(html_frest)\n"
     ]
    },
    {
     "name": "stdout",
     "output_type": "stream",
     "text": [
      "69\n"
     ]
    },
    {
     "name": "stderr",
     "output_type": "stream",
     "text": [
      "C:\\Users\\Malek4\\AppData\\Local\\Temp\\ipykernel_3080\\1338659490.py:73: FutureWarning: Passing literal html to 'read_html' is deprecated and will be removed in a future version. To read from a literal string, wrap it in a 'StringIO' object.\n",
      "  data_frest=pd.read_html(html_frest)\n"
     ]
    },
    {
     "name": "stdout",
     "output_type": "stream",
     "text": [
      "70\n"
     ]
    },
    {
     "name": "stderr",
     "output_type": "stream",
     "text": [
      "C:\\Users\\Malek4\\AppData\\Local\\Temp\\ipykernel_3080\\1338659490.py:73: FutureWarning: Passing literal html to 'read_html' is deprecated and will be removed in a future version. To read from a literal string, wrap it in a 'StringIO' object.\n",
      "  data_frest=pd.read_html(html_frest)\n"
     ]
    },
    {
     "name": "stdout",
     "output_type": "stream",
     "text": [
      "71\n"
     ]
    },
    {
     "name": "stderr",
     "output_type": "stream",
     "text": [
      "C:\\Users\\Malek4\\AppData\\Local\\Temp\\ipykernel_3080\\1338659490.py:73: FutureWarning: Passing literal html to 'read_html' is deprecated and will be removed in a future version. To read from a literal string, wrap it in a 'StringIO' object.\n",
      "  data_frest=pd.read_html(html_frest)\n"
     ]
    },
    {
     "name": "stdout",
     "output_type": "stream",
     "text": [
      "72\n"
     ]
    },
    {
     "name": "stderr",
     "output_type": "stream",
     "text": [
      "C:\\Users\\Malek4\\AppData\\Local\\Temp\\ipykernel_3080\\1338659490.py:73: FutureWarning: Passing literal html to 'read_html' is deprecated and will be removed in a future version. To read from a literal string, wrap it in a 'StringIO' object.\n",
      "  data_frest=pd.read_html(html_frest)\n"
     ]
    },
    {
     "name": "stdout",
     "output_type": "stream",
     "text": [
      "73\n"
     ]
    },
    {
     "name": "stderr",
     "output_type": "stream",
     "text": [
      "C:\\Users\\Malek4\\AppData\\Local\\Temp\\ipykernel_3080\\1338659490.py:73: FutureWarning: Passing literal html to 'read_html' is deprecated and will be removed in a future version. To read from a literal string, wrap it in a 'StringIO' object.\n",
      "  data_frest=pd.read_html(html_frest)\n"
     ]
    },
    {
     "name": "stdout",
     "output_type": "stream",
     "text": [
      "74\n"
     ]
    },
    {
     "name": "stderr",
     "output_type": "stream",
     "text": [
      "C:\\Users\\Malek4\\AppData\\Local\\Temp\\ipykernel_3080\\1338659490.py:73: FutureWarning: Passing literal html to 'read_html' is deprecated and will be removed in a future version. To read from a literal string, wrap it in a 'StringIO' object.\n",
      "  data_frest=pd.read_html(html_frest)\n"
     ]
    },
    {
     "name": "stdout",
     "output_type": "stream",
     "text": [
      "75\n"
     ]
    },
    {
     "name": "stderr",
     "output_type": "stream",
     "text": [
      "C:\\Users\\Malek4\\AppData\\Local\\Temp\\ipykernel_3080\\1338659490.py:73: FutureWarning: Passing literal html to 'read_html' is deprecated and will be removed in a future version. To read from a literal string, wrap it in a 'StringIO' object.\n",
      "  data_frest=pd.read_html(html_frest)\n"
     ]
    },
    {
     "name": "stdout",
     "output_type": "stream",
     "text": [
      "76\n"
     ]
    },
    {
     "name": "stderr",
     "output_type": "stream",
     "text": [
      "C:\\Users\\Malek4\\AppData\\Local\\Temp\\ipykernel_3080\\1338659490.py:73: FutureWarning: Passing literal html to 'read_html' is deprecated and will be removed in a future version. To read from a literal string, wrap it in a 'StringIO' object.\n",
      "  data_frest=pd.read_html(html_frest)\n"
     ]
    },
    {
     "name": "stdout",
     "output_type": "stream",
     "text": [
      "77\n"
     ]
    },
    {
     "name": "stderr",
     "output_type": "stream",
     "text": [
      "C:\\Users\\Malek4\\AppData\\Local\\Temp\\ipykernel_3080\\1338659490.py:73: FutureWarning: Passing literal html to 'read_html' is deprecated and will be removed in a future version. To read from a literal string, wrap it in a 'StringIO' object.\n",
      "  data_frest=pd.read_html(html_frest)\n"
     ]
    },
    {
     "name": "stdout",
     "output_type": "stream",
     "text": [
      "78\n"
     ]
    },
    {
     "name": "stderr",
     "output_type": "stream",
     "text": [
      "C:\\Users\\Malek4\\AppData\\Local\\Temp\\ipykernel_3080\\1338659490.py:73: FutureWarning: Passing literal html to 'read_html' is deprecated and will be removed in a future version. To read from a literal string, wrap it in a 'StringIO' object.\n",
      "  data_frest=pd.read_html(html_frest)\n"
     ]
    },
    {
     "name": "stdout",
     "output_type": "stream",
     "text": [
      "79\n"
     ]
    },
    {
     "name": "stderr",
     "output_type": "stream",
     "text": [
      "C:\\Users\\Malek4\\AppData\\Local\\Temp\\ipykernel_3080\\1338659490.py:73: FutureWarning: Passing literal html to 'read_html' is deprecated and will be removed in a future version. To read from a literal string, wrap it in a 'StringIO' object.\n",
      "  data_frest=pd.read_html(html_frest)\n"
     ]
    },
    {
     "name": "stdout",
     "output_type": "stream",
     "text": [
      "80\n"
     ]
    },
    {
     "name": "stderr",
     "output_type": "stream",
     "text": [
      "C:\\Users\\Malek4\\AppData\\Local\\Temp\\ipykernel_3080\\1338659490.py:73: FutureWarning: Passing literal html to 'read_html' is deprecated and will be removed in a future version. To read from a literal string, wrap it in a 'StringIO' object.\n",
      "  data_frest=pd.read_html(html_frest)\n"
     ]
    },
    {
     "name": "stdout",
     "output_type": "stream",
     "text": [
      "81\n"
     ]
    },
    {
     "name": "stderr",
     "output_type": "stream",
     "text": [
      "C:\\Users\\Malek4\\AppData\\Local\\Temp\\ipykernel_3080\\1338659490.py:73: FutureWarning: Passing literal html to 'read_html' is deprecated and will be removed in a future version. To read from a literal string, wrap it in a 'StringIO' object.\n",
      "  data_frest=pd.read_html(html_frest)\n"
     ]
    },
    {
     "name": "stdout",
     "output_type": "stream",
     "text": [
      "82\n"
     ]
    },
    {
     "name": "stderr",
     "output_type": "stream",
     "text": [
      "C:\\Users\\Malek4\\AppData\\Local\\Temp\\ipykernel_3080\\1338659490.py:73: FutureWarning: Passing literal html to 'read_html' is deprecated and will be removed in a future version. To read from a literal string, wrap it in a 'StringIO' object.\n",
      "  data_frest=pd.read_html(html_frest)\n"
     ]
    },
    {
     "name": "stdout",
     "output_type": "stream",
     "text": [
      "83\n"
     ]
    },
    {
     "name": "stderr",
     "output_type": "stream",
     "text": [
      "C:\\Users\\Malek4\\AppData\\Local\\Temp\\ipykernel_3080\\1338659490.py:73: FutureWarning: Passing literal html to 'read_html' is deprecated and will be removed in a future version. To read from a literal string, wrap it in a 'StringIO' object.\n",
      "  data_frest=pd.read_html(html_frest)\n"
     ]
    },
    {
     "name": "stdout",
     "output_type": "stream",
     "text": [
      "84\n"
     ]
    },
    {
     "name": "stderr",
     "output_type": "stream",
     "text": [
      "C:\\Users\\Malek4\\AppData\\Local\\Temp\\ipykernel_3080\\1338659490.py:73: FutureWarning: Passing literal html to 'read_html' is deprecated and will be removed in a future version. To read from a literal string, wrap it in a 'StringIO' object.\n",
      "  data_frest=pd.read_html(html_frest)\n"
     ]
    },
    {
     "name": "stdout",
     "output_type": "stream",
     "text": [
      "85\n"
     ]
    },
    {
     "name": "stderr",
     "output_type": "stream",
     "text": [
      "C:\\Users\\Malek4\\AppData\\Local\\Temp\\ipykernel_3080\\1338659490.py:73: FutureWarning: Passing literal html to 'read_html' is deprecated and will be removed in a future version. To read from a literal string, wrap it in a 'StringIO' object.\n",
      "  data_frest=pd.read_html(html_frest)\n"
     ]
    },
    {
     "name": "stdout",
     "output_type": "stream",
     "text": [
      "86\n"
     ]
    },
    {
     "name": "stderr",
     "output_type": "stream",
     "text": [
      "C:\\Users\\Malek4\\AppData\\Local\\Temp\\ipykernel_3080\\1338659490.py:73: FutureWarning: Passing literal html to 'read_html' is deprecated and will be removed in a future version. To read from a literal string, wrap it in a 'StringIO' object.\n",
      "  data_frest=pd.read_html(html_frest)\n"
     ]
    },
    {
     "name": "stdout",
     "output_type": "stream",
     "text": [
      "87\n"
     ]
    },
    {
     "name": "stderr",
     "output_type": "stream",
     "text": [
      "C:\\Users\\Malek4\\AppData\\Local\\Temp\\ipykernel_3080\\1338659490.py:73: FutureWarning: Passing literal html to 'read_html' is deprecated and will be removed in a future version. To read from a literal string, wrap it in a 'StringIO' object.\n",
      "  data_frest=pd.read_html(html_frest)\n"
     ]
    },
    {
     "name": "stdout",
     "output_type": "stream",
     "text": [
      "88\n"
     ]
    },
    {
     "name": "stderr",
     "output_type": "stream",
     "text": [
      "C:\\Users\\Malek4\\AppData\\Local\\Temp\\ipykernel_3080\\1338659490.py:73: FutureWarning: Passing literal html to 'read_html' is deprecated and will be removed in a future version. To read from a literal string, wrap it in a 'StringIO' object.\n",
      "  data_frest=pd.read_html(html_frest)\n"
     ]
    },
    {
     "name": "stdout",
     "output_type": "stream",
     "text": [
      "89\n"
     ]
    },
    {
     "name": "stderr",
     "output_type": "stream",
     "text": [
      "C:\\Users\\Malek4\\AppData\\Local\\Temp\\ipykernel_3080\\1338659490.py:73: FutureWarning: Passing literal html to 'read_html' is deprecated and will be removed in a future version. To read from a literal string, wrap it in a 'StringIO' object.\n",
      "  data_frest=pd.read_html(html_frest)\n"
     ]
    },
    {
     "name": "stdout",
     "output_type": "stream",
     "text": [
      "90\n"
     ]
    },
    {
     "name": "stderr",
     "output_type": "stream",
     "text": [
      "C:\\Users\\Malek4\\AppData\\Local\\Temp\\ipykernel_3080\\1338659490.py:73: FutureWarning: Passing literal html to 'read_html' is deprecated and will be removed in a future version. To read from a literal string, wrap it in a 'StringIO' object.\n",
      "  data_frest=pd.read_html(html_frest)\n"
     ]
    },
    {
     "name": "stdout",
     "output_type": "stream",
     "text": [
      "91\n"
     ]
    },
    {
     "name": "stderr",
     "output_type": "stream",
     "text": [
      "C:\\Users\\Malek4\\AppData\\Local\\Temp\\ipykernel_3080\\1338659490.py:73: FutureWarning: Passing literal html to 'read_html' is deprecated and will be removed in a future version. To read from a literal string, wrap it in a 'StringIO' object.\n",
      "  data_frest=pd.read_html(html_frest)\n"
     ]
    },
    {
     "name": "stdout",
     "output_type": "stream",
     "text": [
      "92\n"
     ]
    },
    {
     "name": "stderr",
     "output_type": "stream",
     "text": [
      "C:\\Users\\Malek4\\AppData\\Local\\Temp\\ipykernel_3080\\1338659490.py:73: FutureWarning: Passing literal html to 'read_html' is deprecated and will be removed in a future version. To read from a literal string, wrap it in a 'StringIO' object.\n",
      "  data_frest=pd.read_html(html_frest)\n"
     ]
    },
    {
     "name": "stdout",
     "output_type": "stream",
     "text": [
      "93\n"
     ]
    },
    {
     "name": "stderr",
     "output_type": "stream",
     "text": [
      "C:\\Users\\Malek4\\AppData\\Local\\Temp\\ipykernel_3080\\1338659490.py:73: FutureWarning: Passing literal html to 'read_html' is deprecated and will be removed in a future version. To read from a literal string, wrap it in a 'StringIO' object.\n",
      "  data_frest=pd.read_html(html_frest)\n"
     ]
    },
    {
     "name": "stdout",
     "output_type": "stream",
     "text": [
      "94\n"
     ]
    },
    {
     "name": "stderr",
     "output_type": "stream",
     "text": [
      "C:\\Users\\Malek4\\AppData\\Local\\Temp\\ipykernel_3080\\1338659490.py:73: FutureWarning: Passing literal html to 'read_html' is deprecated and will be removed in a future version. To read from a literal string, wrap it in a 'StringIO' object.\n",
      "  data_frest=pd.read_html(html_frest)\n"
     ]
    },
    {
     "name": "stdout",
     "output_type": "stream",
     "text": [
      "95\n"
     ]
    },
    {
     "name": "stderr",
     "output_type": "stream",
     "text": [
      "C:\\Users\\Malek4\\AppData\\Local\\Temp\\ipykernel_3080\\1338659490.py:73: FutureWarning: Passing literal html to 'read_html' is deprecated and will be removed in a future version. To read from a literal string, wrap it in a 'StringIO' object.\n",
      "  data_frest=pd.read_html(html_frest)\n"
     ]
    },
    {
     "name": "stdout",
     "output_type": "stream",
     "text": [
      "96\n"
     ]
    },
    {
     "name": "stderr",
     "output_type": "stream",
     "text": [
      "C:\\Users\\Malek4\\AppData\\Local\\Temp\\ipykernel_3080\\1338659490.py:73: FutureWarning: Passing literal html to 'read_html' is deprecated and will be removed in a future version. To read from a literal string, wrap it in a 'StringIO' object.\n",
      "  data_frest=pd.read_html(html_frest)\n"
     ]
    },
    {
     "name": "stdout",
     "output_type": "stream",
     "text": [
      "97\n"
     ]
    },
    {
     "name": "stderr",
     "output_type": "stream",
     "text": [
      "C:\\Users\\Malek4\\AppData\\Local\\Temp\\ipykernel_3080\\1338659490.py:73: FutureWarning: Passing literal html to 'read_html' is deprecated and will be removed in a future version. To read from a literal string, wrap it in a 'StringIO' object.\n",
      "  data_frest=pd.read_html(html_frest)\n"
     ]
    },
    {
     "name": "stdout",
     "output_type": "stream",
     "text": [
      "98\n"
     ]
    },
    {
     "name": "stderr",
     "output_type": "stream",
     "text": [
      "C:\\Users\\Malek4\\AppData\\Local\\Temp\\ipykernel_3080\\1338659490.py:73: FutureWarning: Passing literal html to 'read_html' is deprecated and will be removed in a future version. To read from a literal string, wrap it in a 'StringIO' object.\n",
      "  data_frest=pd.read_html(html_frest)\n"
     ]
    },
    {
     "name": "stdout",
     "output_type": "stream",
     "text": [
      "99\n"
     ]
    },
    {
     "name": "stderr",
     "output_type": "stream",
     "text": [
      "C:\\Users\\Malek4\\AppData\\Local\\Temp\\ipykernel_3080\\1338659490.py:73: FutureWarning: Passing literal html to 'read_html' is deprecated and will be removed in a future version. To read from a literal string, wrap it in a 'StringIO' object.\n",
      "  data_frest=pd.read_html(html_frest)\n"
     ]
    },
    {
     "name": "stdout",
     "output_type": "stream",
     "text": [
      "100\n"
     ]
    },
    {
     "name": "stderr",
     "output_type": "stream",
     "text": [
      "C:\\Users\\Malek4\\AppData\\Local\\Temp\\ipykernel_3080\\1338659490.py:73: FutureWarning: Passing literal html to 'read_html' is deprecated and will be removed in a future version. To read from a literal string, wrap it in a 'StringIO' object.\n",
      "  data_frest=pd.read_html(html_frest)\n"
     ]
    },
    {
     "name": "stdout",
     "output_type": "stream",
     "text": [
      "101\n"
     ]
    },
    {
     "name": "stderr",
     "output_type": "stream",
     "text": [
      "C:\\Users\\Malek4\\AppData\\Local\\Temp\\ipykernel_3080\\1338659490.py:73: FutureWarning: Passing literal html to 'read_html' is deprecated and will be removed in a future version. To read from a literal string, wrap it in a 'StringIO' object.\n",
      "  data_frest=pd.read_html(html_frest)\n"
     ]
    },
    {
     "name": "stdout",
     "output_type": "stream",
     "text": [
      "102\n"
     ]
    },
    {
     "name": "stderr",
     "output_type": "stream",
     "text": [
      "C:\\Users\\Malek4\\AppData\\Local\\Temp\\ipykernel_3080\\1338659490.py:73: FutureWarning: Passing literal html to 'read_html' is deprecated and will be removed in a future version. To read from a literal string, wrap it in a 'StringIO' object.\n",
      "  data_frest=pd.read_html(html_frest)\n"
     ]
    },
    {
     "name": "stdout",
     "output_type": "stream",
     "text": [
      "103\n"
     ]
    },
    {
     "name": "stderr",
     "output_type": "stream",
     "text": [
      "C:\\Users\\Malek4\\AppData\\Local\\Temp\\ipykernel_3080\\1338659490.py:73: FutureWarning: Passing literal html to 'read_html' is deprecated and will be removed in a future version. To read from a literal string, wrap it in a 'StringIO' object.\n",
      "  data_frest=pd.read_html(html_frest)\n"
     ]
    },
    {
     "name": "stdout",
     "output_type": "stream",
     "text": [
      "104\n"
     ]
    },
    {
     "name": "stderr",
     "output_type": "stream",
     "text": [
      "C:\\Users\\Malek4\\AppData\\Local\\Temp\\ipykernel_3080\\1338659490.py:73: FutureWarning: Passing literal html to 'read_html' is deprecated and will be removed in a future version. To read from a literal string, wrap it in a 'StringIO' object.\n",
      "  data_frest=pd.read_html(html_frest)\n"
     ]
    },
    {
     "name": "stdout",
     "output_type": "stream",
     "text": [
      "105\n"
     ]
    },
    {
     "name": "stderr",
     "output_type": "stream",
     "text": [
      "C:\\Users\\Malek4\\AppData\\Local\\Temp\\ipykernel_3080\\1338659490.py:73: FutureWarning: Passing literal html to 'read_html' is deprecated and will be removed in a future version. To read from a literal string, wrap it in a 'StringIO' object.\n",
      "  data_frest=pd.read_html(html_frest)\n"
     ]
    },
    {
     "name": "stdout",
     "output_type": "stream",
     "text": [
      "106\n"
     ]
    },
    {
     "name": "stderr",
     "output_type": "stream",
     "text": [
      "C:\\Users\\Malek4\\AppData\\Local\\Temp\\ipykernel_3080\\1338659490.py:73: FutureWarning: Passing literal html to 'read_html' is deprecated and will be removed in a future version. To read from a literal string, wrap it in a 'StringIO' object.\n",
      "  data_frest=pd.read_html(html_frest)\n"
     ]
    },
    {
     "name": "stdout",
     "output_type": "stream",
     "text": [
      "107\n"
     ]
    },
    {
     "name": "stderr",
     "output_type": "stream",
     "text": [
      "C:\\Users\\Malek4\\AppData\\Local\\Temp\\ipykernel_3080\\1338659490.py:73: FutureWarning: Passing literal html to 'read_html' is deprecated and will be removed in a future version. To read from a literal string, wrap it in a 'StringIO' object.\n",
      "  data_frest=pd.read_html(html_frest)\n"
     ]
    },
    {
     "name": "stdout",
     "output_type": "stream",
     "text": [
      "108\n"
     ]
    },
    {
     "name": "stderr",
     "output_type": "stream",
     "text": [
      "C:\\Users\\Malek4\\AppData\\Local\\Temp\\ipykernel_3080\\1338659490.py:73: FutureWarning: Passing literal html to 'read_html' is deprecated and will be removed in a future version. To read from a literal string, wrap it in a 'StringIO' object.\n",
      "  data_frest=pd.read_html(html_frest)\n"
     ]
    },
    {
     "name": "stdout",
     "output_type": "stream",
     "text": [
      "109\n"
     ]
    },
    {
     "name": "stderr",
     "output_type": "stream",
     "text": [
      "C:\\Users\\Malek4\\AppData\\Local\\Temp\\ipykernel_3080\\1338659490.py:73: FutureWarning: Passing literal html to 'read_html' is deprecated and will be removed in a future version. To read from a literal string, wrap it in a 'StringIO' object.\n",
      "  data_frest=pd.read_html(html_frest)\n"
     ]
    },
    {
     "name": "stdout",
     "output_type": "stream",
     "text": [
      "110\n"
     ]
    },
    {
     "name": "stderr",
     "output_type": "stream",
     "text": [
      "C:\\Users\\Malek4\\AppData\\Local\\Temp\\ipykernel_3080\\1338659490.py:73: FutureWarning: Passing literal html to 'read_html' is deprecated and will be removed in a future version. To read from a literal string, wrap it in a 'StringIO' object.\n",
      "  data_frest=pd.read_html(html_frest)\n"
     ]
    },
    {
     "name": "stdout",
     "output_type": "stream",
     "text": [
      "111\n"
     ]
    },
    {
     "name": "stderr",
     "output_type": "stream",
     "text": [
      "C:\\Users\\Malek4\\AppData\\Local\\Temp\\ipykernel_3080\\1338659490.py:73: FutureWarning: Passing literal html to 'read_html' is deprecated and will be removed in a future version. To read from a literal string, wrap it in a 'StringIO' object.\n",
      "  data_frest=pd.read_html(html_frest)\n"
     ]
    },
    {
     "name": "stdout",
     "output_type": "stream",
     "text": [
      "112\n"
     ]
    },
    {
     "name": "stderr",
     "output_type": "stream",
     "text": [
      "C:\\Users\\Malek4\\AppData\\Local\\Temp\\ipykernel_3080\\1338659490.py:73: FutureWarning: Passing literal html to 'read_html' is deprecated and will be removed in a future version. To read from a literal string, wrap it in a 'StringIO' object.\n",
      "  data_frest=pd.read_html(html_frest)\n"
     ]
    },
    {
     "name": "stdout",
     "output_type": "stream",
     "text": [
      "113\n"
     ]
    },
    {
     "name": "stderr",
     "output_type": "stream",
     "text": [
      "C:\\Users\\Malek4\\AppData\\Local\\Temp\\ipykernel_3080\\1338659490.py:73: FutureWarning: Passing literal html to 'read_html' is deprecated and will be removed in a future version. To read from a literal string, wrap it in a 'StringIO' object.\n",
      "  data_frest=pd.read_html(html_frest)\n"
     ]
    },
    {
     "name": "stdout",
     "output_type": "stream",
     "text": [
      "114\n"
     ]
    },
    {
     "name": "stderr",
     "output_type": "stream",
     "text": [
      "C:\\Users\\Malek4\\AppData\\Local\\Temp\\ipykernel_3080\\1338659490.py:73: FutureWarning: Passing literal html to 'read_html' is deprecated and will be removed in a future version. To read from a literal string, wrap it in a 'StringIO' object.\n",
      "  data_frest=pd.read_html(html_frest)\n"
     ]
    },
    {
     "name": "stdout",
     "output_type": "stream",
     "text": [
      "115\n"
     ]
    },
    {
     "name": "stderr",
     "output_type": "stream",
     "text": [
      "C:\\Users\\Malek4\\AppData\\Local\\Temp\\ipykernel_3080\\1338659490.py:73: FutureWarning: Passing literal html to 'read_html' is deprecated and will be removed in a future version. To read from a literal string, wrap it in a 'StringIO' object.\n",
      "  data_frest=pd.read_html(html_frest)\n"
     ]
    },
    {
     "name": "stdout",
     "output_type": "stream",
     "text": [
      "116\n"
     ]
    },
    {
     "name": "stderr",
     "output_type": "stream",
     "text": [
      "C:\\Users\\Malek4\\AppData\\Local\\Temp\\ipykernel_3080\\1338659490.py:73: FutureWarning: Passing literal html to 'read_html' is deprecated and will be removed in a future version. To read from a literal string, wrap it in a 'StringIO' object.\n",
      "  data_frest=pd.read_html(html_frest)\n"
     ]
    },
    {
     "name": "stdout",
     "output_type": "stream",
     "text": [
      "117\n"
     ]
    },
    {
     "name": "stderr",
     "output_type": "stream",
     "text": [
      "C:\\Users\\Malek4\\AppData\\Local\\Temp\\ipykernel_3080\\1338659490.py:73: FutureWarning: Passing literal html to 'read_html' is deprecated and will be removed in a future version. To read from a literal string, wrap it in a 'StringIO' object.\n",
      "  data_frest=pd.read_html(html_frest)\n"
     ]
    },
    {
     "name": "stdout",
     "output_type": "stream",
     "text": [
      "118\n"
     ]
    },
    {
     "name": "stderr",
     "output_type": "stream",
     "text": [
      "C:\\Users\\Malek4\\AppData\\Local\\Temp\\ipykernel_3080\\1338659490.py:73: FutureWarning: Passing literal html to 'read_html' is deprecated and will be removed in a future version. To read from a literal string, wrap it in a 'StringIO' object.\n",
      "  data_frest=pd.read_html(html_frest)\n"
     ]
    },
    {
     "name": "stdout",
     "output_type": "stream",
     "text": [
      "119\n"
     ]
    },
    {
     "name": "stderr",
     "output_type": "stream",
     "text": [
      "C:\\Users\\Malek4\\AppData\\Local\\Temp\\ipykernel_3080\\1338659490.py:73: FutureWarning: Passing literal html to 'read_html' is deprecated and will be removed in a future version. To read from a literal string, wrap it in a 'StringIO' object.\n",
      "  data_frest=pd.read_html(html_frest)\n"
     ]
    },
    {
     "name": "stdout",
     "output_type": "stream",
     "text": [
      "120\n"
     ]
    },
    {
     "name": "stderr",
     "output_type": "stream",
     "text": [
      "C:\\Users\\Malek4\\AppData\\Local\\Temp\\ipykernel_3080\\1338659490.py:73: FutureWarning: Passing literal html to 'read_html' is deprecated and will be removed in a future version. To read from a literal string, wrap it in a 'StringIO' object.\n",
      "  data_frest=pd.read_html(html_frest)\n"
     ]
    },
    {
     "name": "stdout",
     "output_type": "stream",
     "text": [
      "121\n"
     ]
    },
    {
     "name": "stderr",
     "output_type": "stream",
     "text": [
      "C:\\Users\\Malek4\\AppData\\Local\\Temp\\ipykernel_3080\\1338659490.py:73: FutureWarning: Passing literal html to 'read_html' is deprecated and will be removed in a future version. To read from a literal string, wrap it in a 'StringIO' object.\n",
      "  data_frest=pd.read_html(html_frest)\n"
     ]
    },
    {
     "name": "stdout",
     "output_type": "stream",
     "text": [
      "122\n"
     ]
    },
    {
     "name": "stderr",
     "output_type": "stream",
     "text": [
      "C:\\Users\\Malek4\\AppData\\Local\\Temp\\ipykernel_3080\\1338659490.py:73: FutureWarning: Passing literal html to 'read_html' is deprecated and will be removed in a future version. To read from a literal string, wrap it in a 'StringIO' object.\n",
      "  data_frest=pd.read_html(html_frest)\n"
     ]
    },
    {
     "name": "stdout",
     "output_type": "stream",
     "text": [
      "123\n"
     ]
    },
    {
     "name": "stderr",
     "output_type": "stream",
     "text": [
      "C:\\Users\\Malek4\\AppData\\Local\\Temp\\ipykernel_3080\\1338659490.py:73: FutureWarning: Passing literal html to 'read_html' is deprecated and will be removed in a future version. To read from a literal string, wrap it in a 'StringIO' object.\n",
      "  data_frest=pd.read_html(html_frest)\n"
     ]
    },
    {
     "name": "stdout",
     "output_type": "stream",
     "text": [
      "124\n"
     ]
    },
    {
     "name": "stderr",
     "output_type": "stream",
     "text": [
      "C:\\Users\\Malek4\\AppData\\Local\\Temp\\ipykernel_3080\\1338659490.py:73: FutureWarning: Passing literal html to 'read_html' is deprecated and will be removed in a future version. To read from a literal string, wrap it in a 'StringIO' object.\n",
      "  data_frest=pd.read_html(html_frest)\n"
     ]
    },
    {
     "name": "stdout",
     "output_type": "stream",
     "text": [
      "125\n"
     ]
    },
    {
     "name": "stderr",
     "output_type": "stream",
     "text": [
      "C:\\Users\\Malek4\\AppData\\Local\\Temp\\ipykernel_3080\\1338659490.py:73: FutureWarning: Passing literal html to 'read_html' is deprecated and will be removed in a future version. To read from a literal string, wrap it in a 'StringIO' object.\n",
      "  data_frest=pd.read_html(html_frest)\n"
     ]
    },
    {
     "name": "stdout",
     "output_type": "stream",
     "text": [
      "126\n"
     ]
    },
    {
     "name": "stderr",
     "output_type": "stream",
     "text": [
      "C:\\Users\\Malek4\\AppData\\Local\\Temp\\ipykernel_3080\\1338659490.py:73: FutureWarning: Passing literal html to 'read_html' is deprecated and will be removed in a future version. To read from a literal string, wrap it in a 'StringIO' object.\n",
      "  data_frest=pd.read_html(html_frest)\n"
     ]
    },
    {
     "name": "stdout",
     "output_type": "stream",
     "text": [
      "127\n"
     ]
    },
    {
     "name": "stderr",
     "output_type": "stream",
     "text": [
      "C:\\Users\\Malek4\\AppData\\Local\\Temp\\ipykernel_3080\\1338659490.py:73: FutureWarning: Passing literal html to 'read_html' is deprecated and will be removed in a future version. To read from a literal string, wrap it in a 'StringIO' object.\n",
      "  data_frest=pd.read_html(html_frest)\n"
     ]
    },
    {
     "name": "stdout",
     "output_type": "stream",
     "text": [
      "128\n"
     ]
    },
    {
     "name": "stderr",
     "output_type": "stream",
     "text": [
      "C:\\Users\\Malek4\\AppData\\Local\\Temp\\ipykernel_3080\\1338659490.py:73: FutureWarning: Passing literal html to 'read_html' is deprecated and will be removed in a future version. To read from a literal string, wrap it in a 'StringIO' object.\n",
      "  data_frest=pd.read_html(html_frest)\n"
     ]
    },
    {
     "name": "stdout",
     "output_type": "stream",
     "text": [
      "129\n"
     ]
    },
    {
     "name": "stderr",
     "output_type": "stream",
     "text": [
      "C:\\Users\\Malek4\\AppData\\Local\\Temp\\ipykernel_3080\\1338659490.py:73: FutureWarning: Passing literal html to 'read_html' is deprecated and will be removed in a future version. To read from a literal string, wrap it in a 'StringIO' object.\n",
      "  data_frest=pd.read_html(html_frest)\n"
     ]
    },
    {
     "name": "stdout",
     "output_type": "stream",
     "text": [
      "130\n"
     ]
    },
    {
     "name": "stderr",
     "output_type": "stream",
     "text": [
      "C:\\Users\\Malek4\\AppData\\Local\\Temp\\ipykernel_3080\\1338659490.py:73: FutureWarning: Passing literal html to 'read_html' is deprecated and will be removed in a future version. To read from a literal string, wrap it in a 'StringIO' object.\n",
      "  data_frest=pd.read_html(html_frest)\n"
     ]
    },
    {
     "name": "stdout",
     "output_type": "stream",
     "text": [
      "131\n"
     ]
    },
    {
     "name": "stderr",
     "output_type": "stream",
     "text": [
      "C:\\Users\\Malek4\\AppData\\Local\\Temp\\ipykernel_3080\\1338659490.py:73: FutureWarning: Passing literal html to 'read_html' is deprecated and will be removed in a future version. To read from a literal string, wrap it in a 'StringIO' object.\n",
      "  data_frest=pd.read_html(html_frest)\n"
     ]
    },
    {
     "name": "stdout",
     "output_type": "stream",
     "text": [
      "132\n"
     ]
    },
    {
     "name": "stderr",
     "output_type": "stream",
     "text": [
      "C:\\Users\\Malek4\\AppData\\Local\\Temp\\ipykernel_3080\\1338659490.py:73: FutureWarning: Passing literal html to 'read_html' is deprecated and will be removed in a future version. To read from a literal string, wrap it in a 'StringIO' object.\n",
      "  data_frest=pd.read_html(html_frest)\n"
     ]
    },
    {
     "name": "stdout",
     "output_type": "stream",
     "text": [
      "133\n"
     ]
    },
    {
     "name": "stderr",
     "output_type": "stream",
     "text": [
      "C:\\Users\\Malek4\\AppData\\Local\\Temp\\ipykernel_3080\\1338659490.py:73: FutureWarning: Passing literal html to 'read_html' is deprecated and will be removed in a future version. To read from a literal string, wrap it in a 'StringIO' object.\n",
      "  data_frest=pd.read_html(html_frest)\n"
     ]
    },
    {
     "name": "stdout",
     "output_type": "stream",
     "text": [
      "134\n"
     ]
    },
    {
     "name": "stderr",
     "output_type": "stream",
     "text": [
      "C:\\Users\\Malek4\\AppData\\Local\\Temp\\ipykernel_3080\\1338659490.py:73: FutureWarning: Passing literal html to 'read_html' is deprecated and will be removed in a future version. To read from a literal string, wrap it in a 'StringIO' object.\n",
      "  data_frest=pd.read_html(html_frest)\n"
     ]
    },
    {
     "name": "stdout",
     "output_type": "stream",
     "text": [
      "135\n"
     ]
    },
    {
     "name": "stderr",
     "output_type": "stream",
     "text": [
      "C:\\Users\\Malek4\\AppData\\Local\\Temp\\ipykernel_3080\\1338659490.py:73: FutureWarning: Passing literal html to 'read_html' is deprecated and will be removed in a future version. To read from a literal string, wrap it in a 'StringIO' object.\n",
      "  data_frest=pd.read_html(html_frest)\n"
     ]
    },
    {
     "name": "stdout",
     "output_type": "stream",
     "text": [
      "136\n"
     ]
    },
    {
     "name": "stderr",
     "output_type": "stream",
     "text": [
      "C:\\Users\\Malek4\\AppData\\Local\\Temp\\ipykernel_3080\\1338659490.py:73: FutureWarning: Passing literal html to 'read_html' is deprecated and will be removed in a future version. To read from a literal string, wrap it in a 'StringIO' object.\n",
      "  data_frest=pd.read_html(html_frest)\n"
     ]
    },
    {
     "name": "stdout",
     "output_type": "stream",
     "text": [
      "137\n"
     ]
    },
    {
     "name": "stderr",
     "output_type": "stream",
     "text": [
      "C:\\Users\\Malek4\\AppData\\Local\\Temp\\ipykernel_3080\\1338659490.py:73: FutureWarning: Passing literal html to 'read_html' is deprecated and will be removed in a future version. To read from a literal string, wrap it in a 'StringIO' object.\n",
      "  data_frest=pd.read_html(html_frest)\n"
     ]
    },
    {
     "name": "stdout",
     "output_type": "stream",
     "text": [
      "138\n"
     ]
    },
    {
     "name": "stderr",
     "output_type": "stream",
     "text": [
      "C:\\Users\\Malek4\\AppData\\Local\\Temp\\ipykernel_3080\\1338659490.py:73: FutureWarning: Passing literal html to 'read_html' is deprecated and will be removed in a future version. To read from a literal string, wrap it in a 'StringIO' object.\n",
      "  data_frest=pd.read_html(html_frest)\n"
     ]
    },
    {
     "name": "stdout",
     "output_type": "stream",
     "text": [
      "139\n"
     ]
    },
    {
     "name": "stderr",
     "output_type": "stream",
     "text": [
      "C:\\Users\\Malek4\\AppData\\Local\\Temp\\ipykernel_3080\\1338659490.py:73: FutureWarning: Passing literal html to 'read_html' is deprecated and will be removed in a future version. To read from a literal string, wrap it in a 'StringIO' object.\n",
      "  data_frest=pd.read_html(html_frest)\n"
     ]
    },
    {
     "name": "stdout",
     "output_type": "stream",
     "text": [
      "140\n"
     ]
    },
    {
     "name": "stderr",
     "output_type": "stream",
     "text": [
      "C:\\Users\\Malek4\\AppData\\Local\\Temp\\ipykernel_3080\\1338659490.py:73: FutureWarning: Passing literal html to 'read_html' is deprecated and will be removed in a future version. To read from a literal string, wrap it in a 'StringIO' object.\n",
      "  data_frest=pd.read_html(html_frest)\n"
     ]
    },
    {
     "name": "stdout",
     "output_type": "stream",
     "text": [
      "141\n"
     ]
    },
    {
     "name": "stderr",
     "output_type": "stream",
     "text": [
      "C:\\Users\\Malek4\\AppData\\Local\\Temp\\ipykernel_3080\\1338659490.py:73: FutureWarning: Passing literal html to 'read_html' is deprecated and will be removed in a future version. To read from a literal string, wrap it in a 'StringIO' object.\n",
      "  data_frest=pd.read_html(html_frest)\n"
     ]
    },
    {
     "name": "stdout",
     "output_type": "stream",
     "text": [
      "142\n"
     ]
    },
    {
     "name": "stderr",
     "output_type": "stream",
     "text": [
      "C:\\Users\\Malek4\\AppData\\Local\\Temp\\ipykernel_3080\\1338659490.py:73: FutureWarning: Passing literal html to 'read_html' is deprecated and will be removed in a future version. To read from a literal string, wrap it in a 'StringIO' object.\n",
      "  data_frest=pd.read_html(html_frest)\n"
     ]
    },
    {
     "name": "stdout",
     "output_type": "stream",
     "text": [
      "143\n"
     ]
    },
    {
     "name": "stderr",
     "output_type": "stream",
     "text": [
      "C:\\Users\\Malek4\\AppData\\Local\\Temp\\ipykernel_3080\\1338659490.py:73: FutureWarning: Passing literal html to 'read_html' is deprecated and will be removed in a future version. To read from a literal string, wrap it in a 'StringIO' object.\n",
      "  data_frest=pd.read_html(html_frest)\n"
     ]
    },
    {
     "name": "stdout",
     "output_type": "stream",
     "text": [
      "144\n"
     ]
    },
    {
     "name": "stderr",
     "output_type": "stream",
     "text": [
      "C:\\Users\\Malek4\\AppData\\Local\\Temp\\ipykernel_3080\\1338659490.py:73: FutureWarning: Passing literal html to 'read_html' is deprecated and will be removed in a future version. To read from a literal string, wrap it in a 'StringIO' object.\n",
      "  data_frest=pd.read_html(html_frest)\n"
     ]
    },
    {
     "name": "stdout",
     "output_type": "stream",
     "text": [
      "145\n"
     ]
    },
    {
     "name": "stderr",
     "output_type": "stream",
     "text": [
      "C:\\Users\\Malek4\\AppData\\Local\\Temp\\ipykernel_3080\\1338659490.py:73: FutureWarning: Passing literal html to 'read_html' is deprecated and will be removed in a future version. To read from a literal string, wrap it in a 'StringIO' object.\n",
      "  data_frest=pd.read_html(html_frest)\n"
     ]
    },
    {
     "name": "stdout",
     "output_type": "stream",
     "text": [
      "146\n"
     ]
    },
    {
     "name": "stderr",
     "output_type": "stream",
     "text": [
      "C:\\Users\\Malek4\\AppData\\Local\\Temp\\ipykernel_3080\\1338659490.py:73: FutureWarning: Passing literal html to 'read_html' is deprecated and will be removed in a future version. To read from a literal string, wrap it in a 'StringIO' object.\n",
      "  data_frest=pd.read_html(html_frest)\n"
     ]
    },
    {
     "name": "stdout",
     "output_type": "stream",
     "text": [
      "147\n"
     ]
    },
    {
     "name": "stderr",
     "output_type": "stream",
     "text": [
      "C:\\Users\\Malek4\\AppData\\Local\\Temp\\ipykernel_3080\\1338659490.py:73: FutureWarning: Passing literal html to 'read_html' is deprecated and will be removed in a future version. To read from a literal string, wrap it in a 'StringIO' object.\n",
      "  data_frest=pd.read_html(html_frest)\n"
     ]
    },
    {
     "name": "stdout",
     "output_type": "stream",
     "text": [
      "148\n"
     ]
    }
   ],
   "source": [
    "coneter=0\n",
    "deriver=webdriver.Chrome()\n",
    "i=data_fram['کد ملک'][4000]\n",
    "deriver.get(f'https://iranfile.ir/FileDetail/{i}/')\n",
    "sleep(3)\n",
    "html_frest=deriver.page_source\n",
    "data_frest=pd.read_html(html_frest)\n",
    "df=data_frest[1]\n",
    "df.columns=df.iloc[0]\n",
    "df=df.drop(0)\n",
    "a=html_frest.find('غربی')\n",
    "html_jnobi=html_frest[a:a+200] \n",
    "if \"fa file-checked fa-check-square-o for-print\" in html_jnobi:\n",
    "    df['غربی']=1\n",
    "else:\n",
    "    df['غربی']=0\n",
    "a=html_frest.find('شرقی')\n",
    "html_jnobi=html_frest[a:a+200] \n",
    "if \"fa file-checked fa-check-square-o for-print\" in html_jnobi:\n",
    "    df['شرقی']=1\n",
    "else:\n",
    "    df['شرقی']=0\n",
    "a=html_frest.find('شمالی')\n",
    "html_jnobi=html_frest[a:a+200] \n",
    "if \"fa file-checked fa-check-square-o for-print\" in html_jnobi:\n",
    "    df['شمالی']=1\n",
    "else:\n",
    "    df['شمالی']=0\n",
    "a=html_frest.find('جنوبی')\n",
    "html_jnobi=html_frest[a:a+200] \n",
    "if \"fa file-checked fa-check-square-o for-print\" in html_jnobi:\n",
    "    df['جنوبی']=1\n",
    "else:\n",
    "    df['جنوبی']=0\n",
    "df['code']=i\n",
    "a=html_frest.find('OPEN')\n",
    "html_lavazem=html_frest[a:a+200]\n",
    "if \"fa file-checked fa-check-square-o for-print\" in html_lavazem:\n",
    "    df['OPEN']=1\n",
    "else:\n",
    "    df['OPEN']=0\n",
    "a=html_frest.find('پارکینگ')\n",
    "html_lavazem=html_frest[a:a+200]\n",
    "if \"fa file-checked fa-check-square-o for-print\" in html_lavazem:\n",
    "    df['پارکینگ']=1\n",
    "else:\n",
    "    df['پارکینگ']=0\n",
    "a=html_frest.find('انباری')\n",
    "html_lavazem=html_frest[a:a+200]\n",
    "if \"fa file-checked fa-check-square-o for-print\" in html_lavazem:\n",
    "    df['انباری']=1\n",
    "else:\n",
    "    df['انباری']=0\n",
    "a=html_frest.find('بالکن')\n",
    "html_lavazem=html_frest[a:a+200]\n",
    "if \"fa file-checked fa-check-square-o for-print\" in html_lavazem:\n",
    "    df['بالکن']=1\n",
    "else:\n",
    "    df['بالکن']=0\n",
    "for i in data_fram['کد ملک'][4000:6000]:\n",
    "    deriver.get(f'https://iranfile.ir/FileDetail/{i}/')\n",
    "    try:    \n",
    "        html_frest=deriver.page_source\n",
    "    except:\n",
    "        sleep(3)\n",
    "        html_frest=deriver.page_source\n",
    "        try:\n",
    "            sleep(5)\n",
    "            html_frest=deriver.page_source\n",
    "        except:\n",
    "            continue\n",
    "    try:\n",
    "        data_frest=pd.read_html(html_frest)\n",
    "    except:\n",
    "        continue\n",
    "    data_1=data_frest[1]\n",
    "    data_1.columns=data_1.iloc[0]\n",
    "    data_1=data_1.drop(0)\n",
    "    a=html_frest.find('غربی')\n",
    "    html_jnobi=html_frest[a:a+200] \n",
    "    if \"fa file-checked fa-check-square-o for-print\" in html_jnobi:\n",
    "        data_1['غربی']=1\n",
    "    else:\n",
    "        data_1['غربی']=0\n",
    "    a=html_frest.find('شرقی')\n",
    "    html_jnobi=html_frest[a:a+200] \n",
    "    if \"fa file-checked fa-check-square-o for-print\" in html_jnobi:\n",
    "        data_1['شرقی']=1\n",
    "    else:\n",
    "        data_1['شرقی']=0\n",
    "    a=html_frest.find('شمالی')\n",
    "    html_jnobi=html_frest[a:a+200] \n",
    "    if \"fa file-checked fa-check-square-o for-print\" in html_jnobi:\n",
    "        data_1['شمالی']=1\n",
    "    else:\n",
    "        data_1['شمالی']=0\n",
    "    a=html_frest.find('جنوبی')\n",
    "    html_jnobi=html_frest[a:a+200] \n",
    "    if \"fa file-checked fa-check-square-o for-print\" in html_jnobi:\n",
    "        data_1['جنوبی']=1\n",
    "    else:\n",
    "        data_1['جنوبی']=0\n",
    "    \n",
    "    data_1['code']=i\n",
    "    \n",
    "    a=html_frest.find('OPEN')\n",
    "    html_lavazem=html_frest[a:a+200]\n",
    "    if \"fa file-checked fa-check-square-o for-print\" in html_lavazem:\n",
    "        data_1['OPEN']=1\n",
    "    else:\n",
    "        data_1['OPEN']=0\n",
    "    a=html_frest.find('پارکینگ')\n",
    "    html_lavazem=html_frest[a:a+200]\n",
    "    if \"fa file-checked fa-check-square-o for-print\" in html_lavazem:\n",
    "        data_1['پارکینگ']=1\n",
    "    else:\n",
    "        data_1['پارکینگ']=0\n",
    "    a=html_frest.find('انباری')\n",
    "    html_lavazem=html_frest[a:a+200]\n",
    "    if \"fa file-checked fa-check-square-o for-print\" in html_lavazem:\n",
    "        data_1['انباری']=1\n",
    "    else:\n",
    "        data_1['انباری']=0\n",
    "    a=html_frest.find('بالکن')\n",
    "    html_lavazem=html_frest[a:a+200]\n",
    "    if \"fa file-checked fa-check-square-o for-print\" in html_lavazem:\n",
    "        data_1['بالکن']=1\n",
    "    else:\n",
    "        data_1['بالکن']=0\n",
    "    df=pd.concat([data_1,df])\n",
    "    coneter=coneter+1\n",
    "    print(coneter)"
   ]
  },
  {
   "cell_type": "code",
   "execution_count": null,
   "id": "7df16b34-7513-4d52-a7b8-85622ee564cd",
   "metadata": {},
   "outputs": [],
   "source": [
    "df.to_csv('irifill4.csv',index=False)\n"
   ]
  },
  {
   "cell_type": "code",
   "execution_count": 38,
   "id": "52d3a6a0-2467-41e1-af11-4f56af7f6d07",
   "metadata": {
    "editable": true,
    "slideshow": {
     "slide_type": ""
    },
    "tags": []
   },
   "outputs": [
    {
     "data": {
      "text/html": [
       "<div>\n",
       "<style scoped>\n",
       "    .dataframe tbody tr th:only-of-type {\n",
       "        vertical-align: middle;\n",
       "    }\n",
       "\n",
       "    .dataframe tbody tr th {\n",
       "        vertical-align: top;\n",
       "    }\n",
       "\n",
       "    .dataframe thead th {\n",
       "        text-align: right;\n",
       "    }\n",
       "</style>\n",
       "<table border=\"1\" class=\"dataframe\">\n",
       "  <thead>\n",
       "    <tr style=\"text-align: right;\">\n",
       "      <th></th>\n",
       "      <th>طبقه</th>\n",
       "      <th>زیربنا</th>\n",
       "      <th>خواب</th>\n",
       "      <th>تلفن</th>\n",
       "      <th>آشپزخانه</th>\n",
       "      <th>سرویس</th>\n",
       "      <th>کفپوش</th>\n",
       "      <th>OPEN</th>\n",
       "      <th>پارکینگ</th>\n",
       "      <th>انباری</th>\n",
       "      <th>بالکن</th>\n",
       "      <th>غربی</th>\n",
       "      <th>شرقی</th>\n",
       "      <th>شمالی</th>\n",
       "      <th>جنوبی</th>\n",
       "      <th>code</th>\n",
       "    </tr>\n",
       "  </thead>\n",
       "  <tbody>\n",
       "    <tr>\n",
       "      <th>1</th>\n",
       "      <td>1</td>\n",
       "      <td>83</td>\n",
       "      <td>2</td>\n",
       "      <td>1</td>\n",
       "      <td>MDF</td>\n",
       "      <td>ايراني فرنگي</td>\n",
       "      <td>سنگ</td>\n",
       "      <td>1</td>\n",
       "      <td>0</td>\n",
       "      <td>1</td>\n",
       "      <td>1</td>\n",
       "      <td>0</td>\n",
       "      <td>0</td>\n",
       "      <td>0</td>\n",
       "      <td>0</td>\n",
       "      <td>10248114</td>\n",
       "    </tr>\n",
       "    <tr>\n",
       "      <th>1</th>\n",
       "      <td>1</td>\n",
       "      <td>103</td>\n",
       "      <td>2</td>\n",
       "      <td>1</td>\n",
       "      <td>MDF</td>\n",
       "      <td>ايراني فرنگي</td>\n",
       "      <td>سراميک</td>\n",
       "      <td>1</td>\n",
       "      <td>0</td>\n",
       "      <td>1</td>\n",
       "      <td>0</td>\n",
       "      <td>0</td>\n",
       "      <td>0</td>\n",
       "      <td>1</td>\n",
       "      <td>0</td>\n",
       "      <td>10352692</td>\n",
       "    </tr>\n",
       "    <tr>\n",
       "      <th>1</th>\n",
       "      <td>3</td>\n",
       "      <td>96</td>\n",
       "      <td>2</td>\n",
       "      <td>1</td>\n",
       "      <td>MDF</td>\n",
       "      <td>ايراني فرنگي</td>\n",
       "      <td>سراميک</td>\n",
       "      <td>1</td>\n",
       "      <td>0</td>\n",
       "      <td>0</td>\n",
       "      <td>1</td>\n",
       "      <td>0</td>\n",
       "      <td>0</td>\n",
       "      <td>0</td>\n",
       "      <td>0</td>\n",
       "      <td>10273799</td>\n",
       "    </tr>\n",
       "    <tr>\n",
       "      <th>1</th>\n",
       "      <td>1</td>\n",
       "      <td>57</td>\n",
       "      <td>1</td>\n",
       "      <td>1</td>\n",
       "      <td>MDF</td>\n",
       "      <td>فرنگی</td>\n",
       "      <td>سراميک</td>\n",
       "      <td>1</td>\n",
       "      <td>0</td>\n",
       "      <td>1</td>\n",
       "      <td>0</td>\n",
       "      <td>0</td>\n",
       "      <td>0</td>\n",
       "      <td>0</td>\n",
       "      <td>0</td>\n",
       "      <td>10272632</td>\n",
       "    </tr>\n",
       "    <tr>\n",
       "      <th>1</th>\n",
       "      <td>4</td>\n",
       "      <td>174</td>\n",
       "      <td>3</td>\n",
       "      <td>1</td>\n",
       "      <td>MDF</td>\n",
       "      <td>ايراني فرنگي</td>\n",
       "      <td>سنگ</td>\n",
       "      <td>1</td>\n",
       "      <td>0</td>\n",
       "      <td>1</td>\n",
       "      <td>1</td>\n",
       "      <td>0</td>\n",
       "      <td>0</td>\n",
       "      <td>0</td>\n",
       "      <td>1</td>\n",
       "      <td>10265106</td>\n",
       "    </tr>\n",
       "    <tr>\n",
       "      <th>...</th>\n",
       "      <td>...</td>\n",
       "      <td>...</td>\n",
       "      <td>...</td>\n",
       "      <td>...</td>\n",
       "      <td>...</td>\n",
       "      <td>...</td>\n",
       "      <td>...</td>\n",
       "      <td>...</td>\n",
       "      <td>...</td>\n",
       "      <td>...</td>\n",
       "      <td>...</td>\n",
       "      <td>...</td>\n",
       "      <td>...</td>\n",
       "      <td>...</td>\n",
       "      <td>...</td>\n",
       "      <td>...</td>\n",
       "    </tr>\n",
       "    <tr>\n",
       "      <th>1</th>\n",
       "      <td>4</td>\n",
       "      <td>88</td>\n",
       "      <td>2</td>\n",
       "      <td>1</td>\n",
       "      <td>MDF</td>\n",
       "      <td>ايراني فرنگي</td>\n",
       "      <td>پارکت</td>\n",
       "      <td>0</td>\n",
       "      <td>0</td>\n",
       "      <td>0</td>\n",
       "      <td>0</td>\n",
       "      <td>0</td>\n",
       "      <td>0</td>\n",
       "      <td>0</td>\n",
       "      <td>0</td>\n",
       "      <td>10355061</td>\n",
       "    </tr>\n",
       "    <tr>\n",
       "      <th>1</th>\n",
       "      <td>4</td>\n",
       "      <td>51</td>\n",
       "      <td>2</td>\n",
       "      <td>1</td>\n",
       "      <td>MDF</td>\n",
       "      <td>ايرانی</td>\n",
       "      <td>سراميک</td>\n",
       "      <td>1</td>\n",
       "      <td>0</td>\n",
       "      <td>1</td>\n",
       "      <td>0</td>\n",
       "      <td>0</td>\n",
       "      <td>0</td>\n",
       "      <td>0</td>\n",
       "      <td>1</td>\n",
       "      <td>10355066</td>\n",
       "    </tr>\n",
       "    <tr>\n",
       "      <th>1</th>\n",
       "      <td>1</td>\n",
       "      <td>109</td>\n",
       "      <td>3</td>\n",
       "      <td>1</td>\n",
       "      <td>MDF</td>\n",
       "      <td>ايراني فرنگي</td>\n",
       "      <td>سنگ</td>\n",
       "      <td>1</td>\n",
       "      <td>0</td>\n",
       "      <td>1</td>\n",
       "      <td>1</td>\n",
       "      <td>0</td>\n",
       "      <td>0</td>\n",
       "      <td>1</td>\n",
       "      <td>0</td>\n",
       "      <td>10355068</td>\n",
       "    </tr>\n",
       "    <tr>\n",
       "      <th>1</th>\n",
       "      <td>5</td>\n",
       "      <td>113</td>\n",
       "      <td>3</td>\n",
       "      <td>1</td>\n",
       "      <td>MDF</td>\n",
       "      <td>ايراني فرنگي</td>\n",
       "      <td>سراميک</td>\n",
       "      <td>1</td>\n",
       "      <td>0</td>\n",
       "      <td>1</td>\n",
       "      <td>1</td>\n",
       "      <td>0</td>\n",
       "      <td>0</td>\n",
       "      <td>0</td>\n",
       "      <td>1</td>\n",
       "      <td>10355072</td>\n",
       "    </tr>\n",
       "    <tr>\n",
       "      <th>1</th>\n",
       "      <td>5</td>\n",
       "      <td>113</td>\n",
       "      <td>3</td>\n",
       "      <td>1</td>\n",
       "      <td>MDF</td>\n",
       "      <td>ايراني فرنگي</td>\n",
       "      <td>سراميک</td>\n",
       "      <td>1</td>\n",
       "      <td>0</td>\n",
       "      <td>1</td>\n",
       "      <td>1</td>\n",
       "      <td>0</td>\n",
       "      <td>0</td>\n",
       "      <td>0</td>\n",
       "      <td>1</td>\n",
       "      <td>10355072</td>\n",
       "    </tr>\n",
       "  </tbody>\n",
       "</table>\n",
       "<p>1998 rows × 16 columns</p>\n",
       "</div>"
      ],
      "text/plain": [
       "0  طبقه زیربنا خواب تلفن آشپزخانه         سرویس   کفپوش  OPEN  پارکینگ  \\\n",
       "1     1     83    2    1      MDF  ايراني فرنگي     سنگ     1        0   \n",
       "1     1    103    2    1      MDF  ايراني فرنگي  سراميک     1        0   \n",
       "1     3     96    2    1      MDF  ايراني فرنگي  سراميک     1        0   \n",
       "1     1     57    1    1      MDF         فرنگی  سراميک     1        0   \n",
       "1     4    174    3    1      MDF  ايراني فرنگي     سنگ     1        0   \n",
       "..  ...    ...  ...  ...      ...           ...     ...   ...      ...   \n",
       "1     4     88    2    1      MDF  ايراني فرنگي   پارکت     0        0   \n",
       "1     4     51    2    1      MDF        ايرانی  سراميک     1        0   \n",
       "1     1    109    3    1      MDF  ايراني فرنگي     سنگ     1        0   \n",
       "1     5    113    3    1      MDF  ايراني فرنگي  سراميک     1        0   \n",
       "1     5    113    3    1      MDF  ايراني فرنگي  سراميک     1        0   \n",
       "\n",
       "0   انباری  بالکن  غربی  شرقی  شمالی  جنوبی      code  \n",
       "1        1      1     0     0      0      0  10248114  \n",
       "1        1      0     0     0      1      0  10352692  \n",
       "1        0      1     0     0      0      0  10273799  \n",
       "1        1      0     0     0      0      0  10272632  \n",
       "1        1      1     0     0      0      1  10265106  \n",
       "..     ...    ...   ...   ...    ...    ...       ...  \n",
       "1        0      0     0     0      0      0  10355061  \n",
       "1        1      0     0     0      0      1  10355066  \n",
       "1        1      1     0     0      1      0  10355068  \n",
       "1        1      1     0     0      0      1  10355072  \n",
       "1        1      1     0     0      0      1  10355072  \n",
       "\n",
       "[1998 rows x 16 columns]"
      ]
     },
     "execution_count": 38,
     "metadata": {},
     "output_type": "execute_result"
    }
   ],
   "source": [
    "df"
   ]
  }
 ],
 "metadata": {
  "kernelspec": {
   "display_name": "Python 3 (ipykernel)",
   "language": "python",
   "name": "python3"
  },
  "language_info": {
   "codemirror_mode": {
    "name": "ipython",
    "version": 3
   },
   "file_extension": ".py",
   "mimetype": "text/x-python",
   "name": "python",
   "nbconvert_exporter": "python",
   "pygments_lexer": "ipython3",
   "version": "3.12.4"
  }
 },
 "nbformat": 4,
 "nbformat_minor": 5
}
